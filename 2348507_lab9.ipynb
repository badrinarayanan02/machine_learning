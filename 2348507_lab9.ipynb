{
  "nbformat": 4,
  "nbformat_minor": 0,
  "metadata": {
    "colab": {
      "provenance": [],
      "authorship_tag": "ABX9TyMgJ+3GFyfIQbPl8F17pkeT",
      "include_colab_link": true
    },
    "kernelspec": {
      "name": "python3",
      "display_name": "Python 3"
    },
    "language_info": {
      "name": "python"
    }
  },
  "cells": [
    {
      "cell_type": "markdown",
      "metadata": {
        "id": "view-in-github",
        "colab_type": "text"
      },
      "source": [
        "<a href=\"https://colab.research.google.com/github/badrinarayanan02/machine_learning/blob/main/2348507_lab9.ipynb\" target=\"_parent\"><img src=\"https://colab.research.google.com/assets/colab-badge.svg\" alt=\"Open In Colab\"/></a>"
      ]
    },
    {
      "cell_type": "markdown",
      "source": [
        "You are a data scientist tasked with developing a machine learning model to classify brain MRI\n",
        "images as either having a tumor or not. You have been provided with the &quot;Brain Tumor\n",
        "Classification (MRI)&quot; dataset from Kaggle, which contains MRI images along with labels\n",
        "indicating the presence or absence of tumors. Your goal is to build, train, and evaluate an SVM-\n",
        "based classification model for this medical imaging task."
      ],
      "metadata": {
        "id": "669_26IcAwne"
      }
    },
    {
      "cell_type": "code",
      "execution_count": 1,
      "metadata": {
        "id": "71gyg8zpApwz"
      },
      "outputs": [],
      "source": [
        "import numpy as np\n",
        "import pandas as pd\n",
        "import matplotlib.pyplot as plt\n",
        "from sklearn.model_selection import train_test_split\n",
        "from sklearn.metrics import accuracy_score"
      ]
    },
    {
      "cell_type": "code",
      "source": [],
      "metadata": {
        "id": "x-yQRhSHB801"
      },
      "execution_count": null,
      "outputs": []
    },
    {
      "cell_type": "code",
      "source": [],
      "metadata": {
        "id": "Gs3KP5tfCHt7"
      },
      "execution_count": null,
      "outputs": []
    }
  ]
}