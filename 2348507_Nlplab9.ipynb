{
  "nbformat": 4,
  "nbformat_minor": 0,
  "metadata": {
    "colab": {
      "provenance": [],
      "authorship_tag": "ABX9TyNBa+e2VvajZETNjrYrf9C5",
      "include_colab_link": true
    },
    "kernelspec": {
      "name": "python3",
      "display_name": "Python 3"
    },
    "language_info": {
      "name": "python"
    }
  },
  "cells": [
    {
      "cell_type": "markdown",
      "metadata": {
        "id": "view-in-github",
        "colab_type": "text"
      },
      "source": [
        "<a href=\"https://colab.research.google.com/github/badrinarayanan02/machine_learning/blob/main/2348507_Nlplab9.ipynb\" target=\"_parent\"><img src=\"https://colab.research.google.com/assets/colab-badge.svg\" alt=\"Open In Colab\"/></a>"
      ]
    },
    {
      "cell_type": "markdown",
      "source": [
        "# **Edit Distance, Story Generation**"
      ],
      "metadata": {
        "id": "1N_HlcIeaCzx"
      }
    },
    {
      "cell_type": "markdown",
      "source": [
        "# **Task 1**"
      ],
      "metadata": {
        "id": "Y_Y8B-FyW0lm"
      }
    },
    {
      "cell_type": "code",
      "source": [
        "import random\n",
        "from nltk.corpus import wordnet\n",
        "from nltk.tokenize import word_tokenize\n",
        "import nltk\n",
        "nltk.download('punkt')\n",
        "nltk.download('wordnet')\n",
        ""
      ],
      "metadata": {
        "colab": {
          "base_uri": "https://localhost:8080/"
        },
        "id": "fnpd4QeUYQRP",
        "outputId": "44a3fe8b-3db4-40e2-ceee-6a36385f6c56"
      },
      "execution_count": 9,
      "outputs": [
        {
          "output_type": "stream",
          "name": "stderr",
          "text": [
            "[nltk_data] Downloading package punkt to /root/nltk_data...\n",
            "[nltk_data]   Package punkt is already up-to-date!\n",
            "[nltk_data] Downloading package wordnet to /root/nltk_data...\n"
          ]
        },
        {
          "output_type": "execute_result",
          "data": {
            "text/plain": [
              "True"
            ]
          },
          "metadata": {},
          "execution_count": 9
        }
      ]
    },
    {
      "cell_type": "markdown",
      "source": [
        "Implementing the Edit Distance"
      ],
      "metadata": {
        "id": "MiIi9ujuWuQQ"
      }
    },
    {
      "cell_type": "code",
      "execution_count": 1,
      "metadata": {
        "id": "Pm5-R7UFWn91"
      },
      "outputs": [],
      "source": [
        "def editDistance(word1, word2):\n",
        "    m, n = len(word1), len(word2)\n",
        "\n",
        "    dp = [[0] * (n + 1) for _ in range(m + 1)]\n",
        "\n",
        "    for i in range(m + 1):\n",
        "        dp[i][0] = i\n",
        "    for j in range(n + 1):\n",
        "        dp[0][j] = j\n",
        "\n",
        "    for i in range(1, m + 1):\n",
        "        for j in range(1, n + 1):\n",
        "            if word1[i - 1] == word2[j - 1]:\n",
        "                dp[i][j] = dp[i - 1][j - 1]\n",
        "            else:\n",
        "                dp[i][j] = min(dp[i - 1][j - 1], dp[i][j - 1], dp[i - 1][j]) + 1\n",
        "\n",
        "    return dp[m][n]"
      ]
    },
    {
      "cell_type": "code",
      "source": [
        "word1 = \"kitten\"\n",
        "word2 = \"sitting\"\n",
        "distance = editDistance(word1, word2)\n",
        "print(\"Edit Distance between '{}' and '{}': {}\".format(word1, word2, distance))"
      ],
      "metadata": {
        "colab": {
          "base_uri": "https://localhost:8080/"
        },
        "id": "nBuvxgEsXH5g",
        "outputId": "505028c1-21fd-44e6-b8af-da1e4ef7138f"
      },
      "execution_count": 2,
      "outputs": [
        {
          "output_type": "stream",
          "name": "stdout",
          "text": [
            "Edit Distance between 'kitten' and 'sitting': 3\n"
          ]
        }
      ]
    },
    {
      "cell_type": "markdown",
      "source": [
        "**Inference**\n",
        "\n",
        "It takes a minimum of 3 single-character edits (insertions, deletions, or substitutions) to transform the word \"kitten\" into the word \"sitting\".\n",
        "\n",
        "\"k\" → \"s\": Requires a substitution of \"k\" with \"s\"\n",
        "\n",
        "\"i\" → \"i\": No change\n",
        "\n",
        "\"t\" → \"t\": No change\n",
        "\n",
        "\"t\" → \"t\": No change\n",
        "\n",
        "\"e\" → \"i\": Requires a substitution of \"e\" with \"i\"\n",
        "\n",
        "\"n\" → \"n\": No change\n",
        "\n",
        "Add \"g\" at the end"
      ],
      "metadata": {
        "id": "kmkyBkEDXWZy"
      }
    },
    {
      "cell_type": "markdown",
      "source": [
        "# **Task 2**"
      ],
      "metadata": {
        "id": "oKWTJs7HXv51"
      }
    },
    {
      "cell_type": "markdown",
      "source": [
        "Implement the Story or Poem Creator based on the keywords using NLG."
      ],
      "metadata": {
        "id": "mQr1fgTvYNOu"
      }
    },
    {
      "cell_type": "code",
      "source": [
        "def generateStory(keywords):\n",
        "    tokens = word_tokenize(keywords)\n",
        "\n",
        "    synonyms = set()\n",
        "    for token in tokens:\n",
        "        synsets = wordnet.synsets(token)\n",
        "        for synset in synsets:\n",
        "            for lemma in synset.lemmas():\n",
        "                synonyms.add(lemma.name())\n",
        "    story = \"Once upon a time, there was a \"\n",
        "    story += random.choice(list(synonyms)) + \" \"\n",
        "    story += \"who embarked on a journey to \"\n",
        "    story += random.choice(list(synonyms)) + \". \"\n",
        "    story += \"Along the way, they encountered \"\n",
        "    story += random.choice(list(synonyms)) + \" \"\n",
        "    story += \"and faced many challenges, but eventually, \"\n",
        "    story += \"they reached their destination and found \"\n",
        "    story += random.choice(list(synonyms)) + \".\"\n",
        "\n",
        "    return story"
      ],
      "metadata": {
        "id": "tBNird_zYJ9G"
      },
      "execution_count": 5,
      "outputs": []
    },
    {
      "cell_type": "markdown",
      "source": [
        "Testing with keywords"
      ],
      "metadata": {
        "id": "JgGveR6CYh9X"
      }
    },
    {
      "cell_type": "code",
      "source": [
        "keywords = \"love adventure courage\"\n",
        "story = generateStory(keywords)\n",
        "print(story)"
      ],
      "metadata": {
        "colab": {
          "base_uri": "https://localhost:8080/"
        },
        "id": "RF_-VjzuXFzh",
        "outputId": "34d1bb5e-e7e2-4e58-c4ae-a7dc1ae509f5"
      },
      "execution_count": 11,
      "outputs": [
        {
          "output_type": "stream",
          "name": "stdout",
          "text": [
            "Once upon a time, there was a risk who embarked on a journey to chance. Along the way, they encountered dearest and faced many challenges, but eventually, they reached their destination and found roll_in_the_hay.\n"
          ]
        }
      ]
    },
    {
      "cell_type": "markdown",
      "source": [
        "**Inference**\n",
        "\n",
        "The story is generated based on the given keywords"
      ],
      "metadata": {
        "id": "dL1k3W27Y7vH"
      }
    },
    {
      "cell_type": "markdown",
      "source": [
        "# **Conclusion**\n",
        "\n",
        "Thus the task to implement edit distance and a story that is generated based on the given keywords has been executed successfully."
      ],
      "metadata": {
        "id": "sbU6L1TWZQxi"
      }
    }
  ]
}