{
  "nbformat": 4,
  "nbformat_minor": 0,
  "metadata": {
    "colab": {
      "provenance": [],
      "authorship_tag": "ABX9TyOYWYR+apychKPva4iHkf24",
      "include_colab_link": true
    },
    "kernelspec": {
      "name": "python3",
      "display_name": "Python 3"
    },
    "language_info": {
      "name": "python"
    }
  },
  "cells": [
    {
      "cell_type": "markdown",
      "metadata": {
        "id": "view-in-github",
        "colab_type": "text"
      },
      "source": [
        "<a href=\"https://colab.research.google.com/github/badrinarayanan02/machine_learning/blob/main/2348507_Lab2.ipynb\" target=\"_parent\"><img src=\"https://colab.research.google.com/assets/colab-badge.svg\" alt=\"Open In Colab\"/></a>"
      ]
    },
    {
      "cell_type": "code",
      "execution_count": 15,
      "metadata": {
        "colab": {
          "base_uri": "https://localhost:8080/",
          "height": 538
        },
        "id": "g160O5hWu_MY",
        "outputId": "73864378-9f85-4400-e7fa-16f2d207e98e"
      },
      "outputs": [
        {
          "output_type": "execute_result",
          "data": {
            "text/plain": [
              "   Ticket ID        Customer Name              Customer Email  Customer Age  \\\n",
              "0          1        Marisa Obrien  carrollallison@example.com            32   \n",
              "1          2         Jessica Rios    clarkeashley@example.com            42   \n",
              "2          3  Christopher Robbins   gonzalestracy@example.com            48   \n",
              "3          4     Christina Dillon    bradleyolson@example.org            27   \n",
              "4          5    Alexander Carroll     bradleymark@example.com            67   \n",
              "\n",
              "  Customer Gender Product Purchased Date of Purchase      Ticket Type  \\\n",
              "0           Other        GoPro Hero       2021-03-22  Technical issue   \n",
              "1          Female       LG Smart TV       2021-05-22  Technical issue   \n",
              "2           Other          Dell XPS       2020-07-14  Technical issue   \n",
              "3          Female  Microsoft Office       2020-11-13  Billing inquiry   \n",
              "4          Female  Autodesk AutoCAD       2020-02-04  Billing inquiry   \n",
              "\n",
              "             Ticket Subject  \\\n",
              "0             Product setup   \n",
              "1  Peripheral compatibility   \n",
              "2           Network problem   \n",
              "3            Account access   \n",
              "4                 Data loss   \n",
              "\n",
              "                                  Ticket Description  \\\n",
              "0  I'm having an issue with the {product_purchase...   \n",
              "1  I'm having an issue with the {product_purchase...   \n",
              "2  I'm facing a problem with my {product_purchase...   \n",
              "3  I'm having an issue with the {product_purchase...   \n",
              "4  I'm having an issue with the {product_purchase...   \n",
              "\n",
              "               Ticket Status                                     Resolution  \\\n",
              "0  Pending Customer Response                                            NaN   \n",
              "1  Pending Customer Response                                            NaN   \n",
              "2                     Closed   Case maybe show recently my computer follow.   \n",
              "3                     Closed  Try capital clearly never color toward story.   \n",
              "4                     Closed                    West decision evidence bit.   \n",
              "\n",
              "  Ticket Priority Ticket Channel  First Response Time   Time to Resolution  \\\n",
              "0        Critical   Social media  2023-06-01 12:15:36                  NaN   \n",
              "1        Critical           Chat  2023-06-01 16:45:38                  NaN   \n",
              "2             Low   Social media  2023-06-01 11:14:38  2023-06-01 18:05:38   \n",
              "3             Low   Social media  2023-06-01 07:29:40  2023-06-01 01:57:40   \n",
              "4             Low          Email  2023-06-01 00:12:42  2023-06-01 19:53:42   \n",
              "\n",
              "   Customer Satisfaction Rating  \n",
              "0                           NaN  \n",
              "1                           NaN  \n",
              "2                           3.0  \n",
              "3                           3.0  \n",
              "4                           1.0  "
            ],
            "text/html": [
              "\n",
              "  <div id=\"df-f0222821-e127-406e-9f0e-ee4666e2c9e3\" class=\"colab-df-container\">\n",
              "    <div>\n",
              "<style scoped>\n",
              "    .dataframe tbody tr th:only-of-type {\n",
              "        vertical-align: middle;\n",
              "    }\n",
              "\n",
              "    .dataframe tbody tr th {\n",
              "        vertical-align: top;\n",
              "    }\n",
              "\n",
              "    .dataframe thead th {\n",
              "        text-align: right;\n",
              "    }\n",
              "</style>\n",
              "<table border=\"1\" class=\"dataframe\">\n",
              "  <thead>\n",
              "    <tr style=\"text-align: right;\">\n",
              "      <th></th>\n",
              "      <th>Ticket ID</th>\n",
              "      <th>Customer Name</th>\n",
              "      <th>Customer Email</th>\n",
              "      <th>Customer Age</th>\n",
              "      <th>Customer Gender</th>\n",
              "      <th>Product Purchased</th>\n",
              "      <th>Date of Purchase</th>\n",
              "      <th>Ticket Type</th>\n",
              "      <th>Ticket Subject</th>\n",
              "      <th>Ticket Description</th>\n",
              "      <th>Ticket Status</th>\n",
              "      <th>Resolution</th>\n",
              "      <th>Ticket Priority</th>\n",
              "      <th>Ticket Channel</th>\n",
              "      <th>First Response Time</th>\n",
              "      <th>Time to Resolution</th>\n",
              "      <th>Customer Satisfaction Rating</th>\n",
              "    </tr>\n",
              "  </thead>\n",
              "  <tbody>\n",
              "    <tr>\n",
              "      <th>0</th>\n",
              "      <td>1</td>\n",
              "      <td>Marisa Obrien</td>\n",
              "      <td>carrollallison@example.com</td>\n",
              "      <td>32</td>\n",
              "      <td>Other</td>\n",
              "      <td>GoPro Hero</td>\n",
              "      <td>2021-03-22</td>\n",
              "      <td>Technical issue</td>\n",
              "      <td>Product setup</td>\n",
              "      <td>I'm having an issue with the {product_purchase...</td>\n",
              "      <td>Pending Customer Response</td>\n",
              "      <td>NaN</td>\n",
              "      <td>Critical</td>\n",
              "      <td>Social media</td>\n",
              "      <td>2023-06-01 12:15:36</td>\n",
              "      <td>NaN</td>\n",
              "      <td>NaN</td>\n",
              "    </tr>\n",
              "    <tr>\n",
              "      <th>1</th>\n",
              "      <td>2</td>\n",
              "      <td>Jessica Rios</td>\n",
              "      <td>clarkeashley@example.com</td>\n",
              "      <td>42</td>\n",
              "      <td>Female</td>\n",
              "      <td>LG Smart TV</td>\n",
              "      <td>2021-05-22</td>\n",
              "      <td>Technical issue</td>\n",
              "      <td>Peripheral compatibility</td>\n",
              "      <td>I'm having an issue with the {product_purchase...</td>\n",
              "      <td>Pending Customer Response</td>\n",
              "      <td>NaN</td>\n",
              "      <td>Critical</td>\n",
              "      <td>Chat</td>\n",
              "      <td>2023-06-01 16:45:38</td>\n",
              "      <td>NaN</td>\n",
              "      <td>NaN</td>\n",
              "    </tr>\n",
              "    <tr>\n",
              "      <th>2</th>\n",
              "      <td>3</td>\n",
              "      <td>Christopher Robbins</td>\n",
              "      <td>gonzalestracy@example.com</td>\n",
              "      <td>48</td>\n",
              "      <td>Other</td>\n",
              "      <td>Dell XPS</td>\n",
              "      <td>2020-07-14</td>\n",
              "      <td>Technical issue</td>\n",
              "      <td>Network problem</td>\n",
              "      <td>I'm facing a problem with my {product_purchase...</td>\n",
              "      <td>Closed</td>\n",
              "      <td>Case maybe show recently my computer follow.</td>\n",
              "      <td>Low</td>\n",
              "      <td>Social media</td>\n",
              "      <td>2023-06-01 11:14:38</td>\n",
              "      <td>2023-06-01 18:05:38</td>\n",
              "      <td>3.0</td>\n",
              "    </tr>\n",
              "    <tr>\n",
              "      <th>3</th>\n",
              "      <td>4</td>\n",
              "      <td>Christina Dillon</td>\n",
              "      <td>bradleyolson@example.org</td>\n",
              "      <td>27</td>\n",
              "      <td>Female</td>\n",
              "      <td>Microsoft Office</td>\n",
              "      <td>2020-11-13</td>\n",
              "      <td>Billing inquiry</td>\n",
              "      <td>Account access</td>\n",
              "      <td>I'm having an issue with the {product_purchase...</td>\n",
              "      <td>Closed</td>\n",
              "      <td>Try capital clearly never color toward story.</td>\n",
              "      <td>Low</td>\n",
              "      <td>Social media</td>\n",
              "      <td>2023-06-01 07:29:40</td>\n",
              "      <td>2023-06-01 01:57:40</td>\n",
              "      <td>3.0</td>\n",
              "    </tr>\n",
              "    <tr>\n",
              "      <th>4</th>\n",
              "      <td>5</td>\n",
              "      <td>Alexander Carroll</td>\n",
              "      <td>bradleymark@example.com</td>\n",
              "      <td>67</td>\n",
              "      <td>Female</td>\n",
              "      <td>Autodesk AutoCAD</td>\n",
              "      <td>2020-02-04</td>\n",
              "      <td>Billing inquiry</td>\n",
              "      <td>Data loss</td>\n",
              "      <td>I'm having an issue with the {product_purchase...</td>\n",
              "      <td>Closed</td>\n",
              "      <td>West decision evidence bit.</td>\n",
              "      <td>Low</td>\n",
              "      <td>Email</td>\n",
              "      <td>2023-06-01 00:12:42</td>\n",
              "      <td>2023-06-01 19:53:42</td>\n",
              "      <td>1.0</td>\n",
              "    </tr>\n",
              "  </tbody>\n",
              "</table>\n",
              "</div>\n",
              "    <div class=\"colab-df-buttons\">\n",
              "\n",
              "  <div class=\"colab-df-container\">\n",
              "    <button class=\"colab-df-convert\" onclick=\"convertToInteractive('df-f0222821-e127-406e-9f0e-ee4666e2c9e3')\"\n",
              "            title=\"Convert this dataframe to an interactive table.\"\n",
              "            style=\"display:none;\">\n",
              "\n",
              "  <svg xmlns=\"http://www.w3.org/2000/svg\" height=\"24px\" viewBox=\"0 -960 960 960\">\n",
              "    <path d=\"M120-120v-720h720v720H120Zm60-500h600v-160H180v160Zm220 220h160v-160H400v160Zm0 220h160v-160H400v160ZM180-400h160v-160H180v160Zm440 0h160v-160H620v160ZM180-180h160v-160H180v160Zm440 0h160v-160H620v160Z\"/>\n",
              "  </svg>\n",
              "    </button>\n",
              "\n",
              "  <style>\n",
              "    .colab-df-container {\n",
              "      display:flex;\n",
              "      gap: 12px;\n",
              "    }\n",
              "\n",
              "    .colab-df-convert {\n",
              "      background-color: #E8F0FE;\n",
              "      border: none;\n",
              "      border-radius: 50%;\n",
              "      cursor: pointer;\n",
              "      display: none;\n",
              "      fill: #1967D2;\n",
              "      height: 32px;\n",
              "      padding: 0 0 0 0;\n",
              "      width: 32px;\n",
              "    }\n",
              "\n",
              "    .colab-df-convert:hover {\n",
              "      background-color: #E2EBFA;\n",
              "      box-shadow: 0px 1px 2px rgba(60, 64, 67, 0.3), 0px 1px 3px 1px rgba(60, 64, 67, 0.15);\n",
              "      fill: #174EA6;\n",
              "    }\n",
              "\n",
              "    .colab-df-buttons div {\n",
              "      margin-bottom: 4px;\n",
              "    }\n",
              "\n",
              "    [theme=dark] .colab-df-convert {\n",
              "      background-color: #3B4455;\n",
              "      fill: #D2E3FC;\n",
              "    }\n",
              "\n",
              "    [theme=dark] .colab-df-convert:hover {\n",
              "      background-color: #434B5C;\n",
              "      box-shadow: 0px 1px 3px 1px rgba(0, 0, 0, 0.15);\n",
              "      filter: drop-shadow(0px 1px 2px rgba(0, 0, 0, 0.3));\n",
              "      fill: #FFFFFF;\n",
              "    }\n",
              "  </style>\n",
              "\n",
              "    <script>\n",
              "      const buttonEl =\n",
              "        document.querySelector('#df-f0222821-e127-406e-9f0e-ee4666e2c9e3 button.colab-df-convert');\n",
              "      buttonEl.style.display =\n",
              "        google.colab.kernel.accessAllowed ? 'block' : 'none';\n",
              "\n",
              "      async function convertToInteractive(key) {\n",
              "        const element = document.querySelector('#df-f0222821-e127-406e-9f0e-ee4666e2c9e3');\n",
              "        const dataTable =\n",
              "          await google.colab.kernel.invokeFunction('convertToInteractive',\n",
              "                                                    [key], {});\n",
              "        if (!dataTable) return;\n",
              "\n",
              "        const docLinkHtml = 'Like what you see? Visit the ' +\n",
              "          '<a target=\"_blank\" href=https://colab.research.google.com/notebooks/data_table.ipynb>data table notebook</a>'\n",
              "          + ' to learn more about interactive tables.';\n",
              "        element.innerHTML = '';\n",
              "        dataTable['output_type'] = 'display_data';\n",
              "        await google.colab.output.renderOutput(dataTable, element);\n",
              "        const docLink = document.createElement('div');\n",
              "        docLink.innerHTML = docLinkHtml;\n",
              "        element.appendChild(docLink);\n",
              "      }\n",
              "    </script>\n",
              "  </div>\n",
              "\n",
              "\n",
              "<div id=\"df-669ae242-44a3-47da-9bf8-aa9998f6de09\">\n",
              "  <button class=\"colab-df-quickchart\" onclick=\"quickchart('df-669ae242-44a3-47da-9bf8-aa9998f6de09')\"\n",
              "            title=\"Suggest charts.\"\n",
              "            style=\"display:none;\">\n",
              "\n",
              "<svg xmlns=\"http://www.w3.org/2000/svg\" height=\"24px\"viewBox=\"0 0 24 24\"\n",
              "     width=\"24px\">\n",
              "    <g>\n",
              "        <path d=\"M19 3H5c-1.1 0-2 .9-2 2v14c0 1.1.9 2 2 2h14c1.1 0 2-.9 2-2V5c0-1.1-.9-2-2-2zM9 17H7v-7h2v7zm4 0h-2V7h2v10zm4 0h-2v-4h2v4z\"/>\n",
              "    </g>\n",
              "</svg>\n",
              "  </button>\n",
              "\n",
              "<style>\n",
              "  .colab-df-quickchart {\n",
              "    background-color: #E8F0FE;\n",
              "    border: none;\n",
              "    border-radius: 50%;\n",
              "    cursor: pointer;\n",
              "    display: none;\n",
              "    fill: #1967D2;\n",
              "    height: 32px;\n",
              "    padding: 0 0 0 0;\n",
              "    width: 32px;\n",
              "  }\n",
              "\n",
              "  .colab-df-quickchart:hover {\n",
              "    background-color: #E2EBFA;\n",
              "    box-shadow: 0px 1px 2px rgba(60, 64, 67, 0.3), 0px 1px 3px 1px rgba(60, 64, 67, 0.15);\n",
              "    fill: #174EA6;\n",
              "  }\n",
              "\n",
              "  [theme=dark] .colab-df-quickchart {\n",
              "    background-color: #3B4455;\n",
              "    fill: #D2E3FC;\n",
              "  }\n",
              "\n",
              "  [theme=dark] .colab-df-quickchart:hover {\n",
              "    background-color: #434B5C;\n",
              "    box-shadow: 0px 1px 3px 1px rgba(0, 0, 0, 0.15);\n",
              "    filter: drop-shadow(0px 1px 2px rgba(0, 0, 0, 0.3));\n",
              "    fill: #FFFFFF;\n",
              "  }\n",
              "</style>\n",
              "\n",
              "  <script>\n",
              "    async function quickchart(key) {\n",
              "      const charts = await google.colab.kernel.invokeFunction(\n",
              "          'suggestCharts', [key], {});\n",
              "    }\n",
              "    (() => {\n",
              "      let quickchartButtonEl =\n",
              "        document.querySelector('#df-669ae242-44a3-47da-9bf8-aa9998f6de09 button');\n",
              "      quickchartButtonEl.style.display =\n",
              "        google.colab.kernel.accessAllowed ? 'block' : 'none';\n",
              "    })();\n",
              "  </script>\n",
              "</div>\n",
              "    </div>\n",
              "  </div>\n"
            ]
          },
          "metadata": {},
          "execution_count": 15
        }
      ],
      "source": [
        "import pandas as pd\n",
        "import numpy as np\n",
        "import matplotlib.pyplot as plt\n",
        "import seaborn as sns\n",
        "\n",
        "customer_data = pd.read_csv('/content/customer_support_tickets.csv')\n",
        "customer_data.head()"
      ]
    },
    {
      "cell_type": "code",
      "source": [
        "customer_data.info()"
      ],
      "metadata": {
        "colab": {
          "base_uri": "https://localhost:8080/"
        },
        "id": "HPEMkWoqcu3s",
        "outputId": "07ec0a6f-0ec9-4fec-eff6-826b20491831"
      },
      "execution_count": 21,
      "outputs": [
        {
          "output_type": "stream",
          "name": "stdout",
          "text": [
            "<class 'pandas.core.frame.DataFrame'>\n",
            "RangeIndex: 8469 entries, 0 to 8468\n",
            "Data columns (total 17 columns):\n",
            " #   Column                        Non-Null Count  Dtype  \n",
            "---  ------                        --------------  -----  \n",
            " 0   Ticket ID                     8469 non-null   int64  \n",
            " 1   Customer Name                 8469 non-null   object \n",
            " 2   Customer Email                8469 non-null   object \n",
            " 3   Customer Age                  8469 non-null   int64  \n",
            " 4   Customer Gender               8469 non-null   object \n",
            " 5   Product Purchased             8469 non-null   object \n",
            " 6   Date of Purchase              8469 non-null   object \n",
            " 7   Ticket Type                   8469 non-null   object \n",
            " 8   Ticket Subject                8469 non-null   object \n",
            " 9   Ticket Description            8469 non-null   object \n",
            " 10  Ticket Status                 8469 non-null   object \n",
            " 11  Resolution                    2769 non-null   object \n",
            " 12  Ticket Priority               8469 non-null   object \n",
            " 13  Ticket Channel                8469 non-null   object \n",
            " 14  First Response Time           5650 non-null   object \n",
            " 15  Time to Resolution            2769 non-null   object \n",
            " 16  Customer Satisfaction Rating  2769 non-null   float64\n",
            "dtypes: float64(1), int64(2), object(14)\n",
            "memory usage: 1.1+ MB\n"
          ]
        }
      ]
    },
    {
      "cell_type": "code",
      "source": [
        "customer_data.shape"
      ],
      "metadata": {
        "colab": {
          "base_uri": "https://localhost:8080/"
        },
        "id": "8RqlRKGBcsIA",
        "outputId": "ca2381a7-63ae-4b3f-d716-3f7019c93390"
      },
      "execution_count": 17,
      "outputs": [
        {
          "output_type": "execute_result",
          "data": {
            "text/plain": [
              "(8469, 17)"
            ]
          },
          "metadata": {},
          "execution_count": 17
        }
      ]
    },
    {
      "cell_type": "code",
      "source": [
        "customer_data.isnull().sum"
      ],
      "metadata": {
        "colab": {
          "base_uri": "https://localhost:8080/"
        },
        "id": "LRiv474Sc1KB",
        "outputId": "0d41ac12-8003-4616-ec2f-c79f55b60943"
      },
      "execution_count": 20,
      "outputs": [
        {
          "output_type": "execute_result",
          "data": {
            "text/plain": [
              "<bound method NDFrame._add_numeric_operations.<locals>.sum of       Ticket ID  Customer Name  Customer Email  Customer Age  Customer Gender  \\\n",
              "0         False          False           False         False            False   \n",
              "1         False          False           False         False            False   \n",
              "2         False          False           False         False            False   \n",
              "3         False          False           False         False            False   \n",
              "4         False          False           False         False            False   \n",
              "...         ...            ...             ...           ...              ...   \n",
              "8464      False          False           False         False            False   \n",
              "8465      False          False           False         False            False   \n",
              "8466      False          False           False         False            False   \n",
              "8467      False          False           False         False            False   \n",
              "8468      False          False           False         False            False   \n",
              "\n",
              "      Product Purchased  Date of Purchase  Ticket Type  Ticket Subject  \\\n",
              "0                 False             False        False           False   \n",
              "1                 False             False        False           False   \n",
              "2                 False             False        False           False   \n",
              "3                 False             False        False           False   \n",
              "4                 False             False        False           False   \n",
              "...                 ...               ...          ...             ...   \n",
              "8464              False             False        False           False   \n",
              "8465              False             False        False           False   \n",
              "8466              False             False        False           False   \n",
              "8467              False             False        False           False   \n",
              "8468              False             False        False           False   \n",
              "\n",
              "      Ticket Description  Ticket Status  Resolution  Ticket Priority  \\\n",
              "0                  False          False        True            False   \n",
              "1                  False          False        True            False   \n",
              "2                  False          False       False            False   \n",
              "3                  False          False       False            False   \n",
              "4                  False          False       False            False   \n",
              "...                  ...            ...         ...              ...   \n",
              "8464               False          False        True            False   \n",
              "8465               False          False        True            False   \n",
              "8466               False          False       False            False   \n",
              "8467               False          False       False            False   \n",
              "8468               False          False        True            False   \n",
              "\n",
              "      Ticket Channel  First Response Time  Time to Resolution  \\\n",
              "0              False                False                True   \n",
              "1              False                False                True   \n",
              "2              False                False               False   \n",
              "3              False                False               False   \n",
              "4              False                False               False   \n",
              "...              ...                  ...                 ...   \n",
              "8464           False                 True                True   \n",
              "8465           False                 True                True   \n",
              "8466           False                False               False   \n",
              "8467           False                False               False   \n",
              "8468           False                 True                True   \n",
              "\n",
              "      Customer Satisfaction Rating  \n",
              "0                             True  \n",
              "1                             True  \n",
              "2                            False  \n",
              "3                            False  \n",
              "4                            False  \n",
              "...                            ...  \n",
              "8464                          True  \n",
              "8465                          True  \n",
              "8466                         False  \n",
              "8467                         False  \n",
              "8468                          True  \n",
              "\n",
              "[8469 rows x 17 columns]>"
            ]
          },
          "metadata": {},
          "execution_count": 20
        }
      ]
    },
    {
      "cell_type": "markdown",
      "source": [
        "Segregating customer's age into different groups using binning"
      ],
      "metadata": {
        "id": "1pskWkISW-0i"
      }
    },
    {
      "cell_type": "code",
      "source": [
        "customer_data = {'Customer Age': [22,28,31,37,42,47,53,60] }\n",
        "df = pd.DataFrame(customer_data)"
      ],
      "metadata": {
        "id": "8l6lBWNLXFYJ"
      },
      "execution_count": 8,
      "outputs": []
    },
    {
      "cell_type": "code",
      "source": [
        "bin_edges = [18,25,35,40,45,50,100]"
      ],
      "metadata": {
        "id": "7tMZDniWYHyG"
      },
      "execution_count": 10,
      "outputs": []
    },
    {
      "cell_type": "markdown",
      "source": [
        "Bin labels\n"
      ],
      "metadata": {
        "id": "k6NnljCMYReO"
      }
    },
    {
      "cell_type": "code",
      "source": [
        "bin_labels = ['18-25','25-35','35-40','40-45','45-50','50+']"
      ],
      "metadata": {
        "id": "dWES029ZYSs9"
      },
      "execution_count": 12,
      "outputs": []
    },
    {
      "cell_type": "code",
      "source": [
        "df['age_group'] = pd.cut(df['Customer Age'], bins=bin_edges, labels=bin_labels, right=False)"
      ],
      "metadata": {
        "id": "N98iug6iYqdC"
      },
      "execution_count": 13,
      "outputs": []
    },
    {
      "cell_type": "code",
      "source": [
        "print(df)"
      ],
      "metadata": {
        "colab": {
          "base_uri": "https://localhost:8080/"
        },
        "id": "xgjAhjDBYsU-",
        "outputId": "5cda7fba-6361-4fac-cc80-265ec0f9cf37"
      },
      "execution_count": 14,
      "outputs": [
        {
          "output_type": "stream",
          "name": "stdout",
          "text": [
            "   Customer Age age_group\n",
            "0            22     18-25\n",
            "1            28     25-35\n",
            "2            31     25-35\n",
            "3            37     35-40\n",
            "4            42     40-45\n",
            "5            47     45-50\n",
            "6            53       50+\n",
            "7            60       50+\n"
          ]
        }
      ]
    },
    {
      "cell_type": "markdown",
      "source": [
        "Using barplot displaying the distribution of customers across different age groups"
      ],
      "metadata": {
        "id": "lUhjhBT-aHrf"
      }
    },
    {
      "cell_type": "code",
      "source": [
        "sns.set(style=\"whitegrid\")\n",
        "plt.figure(figsize=(8, 6))\n",
        "sns.countplot(x='age_group', data=df, order=bin_labels, palette=\"viridis\")\n",
        "plt.xlabel(\"Age Group\")\n",
        "plt.ylabel(\"Number of Customers\")\n",
        "plt.title(\"Distribution of Customers Across Age Groups\")\n",
        "plt.show()"
      ],
      "metadata": {
        "colab": {
          "base_uri": "https://localhost:8080/",
          "height": 573
        },
        "id": "GHHIPYOLaOXF",
        "outputId": "30ecff6f-b85d-45d2-a642-911f1b687530"
      },
      "execution_count": 16,
      "outputs": [
        {
          "output_type": "display_data",
          "data": {
            "text/plain": [
              "<Figure size 800x600 with 1 Axes>"
            ],
            "image/png": "[encoded data removed]"
          },
          "metadata": {}
        }
      ]
    },
    {
      "cell_type": "markdown",
      "source": [
        "Converting categorical variables to numerical variables using labelencoder\n",
        "\n",
        "---\n",
        "\n"
      ],
      "metadata": {
        "id": "w5shbFFHde-c"
      }
    },
    {
      "cell_type": "code",
      "source": [
        "from sklearn.preprocessing import LabelEncoder\n",
        "\n",
        "customer_data = {'Customer Gender': ['Male', 'Female', 'Male', 'Female', 'Male'],\n",
        "        'Ticket Status': ['Open', 'Closed', 'Open', 'Pending', 'Closed']}\n",
        "df = pd.DataFrame(customer_data)\n",
        "label_encoder_gender = LabelEncoder()\n",
        "label_encoder_status = LabelEncoder()\n",
        "df['gender_encoded'] = label_encoder_gender.fit_transform(df['Customer Gender'])\n",
        "df['ticket_status_encoded'] = label_encoder_status.fit_transform(df['Ticket Status'])"
      ],
      "metadata": {
        "id": "yo0fNGArdi6j"
      },
      "execution_count": 24,
      "outputs": []
    },
    {
      "cell_type": "code",
      "source": [
        "df.head()"
      ],
      "metadata": {
        "colab": {
          "base_uri": "https://localhost:8080/",
          "height": 206
        },
        "id": "ogSEPdvPd8Nw",
        "outputId": "f0f76b42-6be7-4d20-a214-c0e8e0635012"
      },
      "execution_count": 28,
      "outputs": [
        {
          "output_type": "execute_result",
          "data": {
            "text/plain": [
              "  Customer Gender Ticket Status  gender_encoded  ticket_status_encoded\n",
              "0            Male          Open               1                      1\n",
              "1          Female        Closed               0                      0\n",
              "2            Male          Open               1                      1\n",
              "3          Female       Pending               0                      2\n",
              "4            Male        Closed               1                      0"
            ],
            "text/html": [
              "\n",
              "  <div id=\"df-63f0ca83-a096-4e1b-94c0-6d4e67d75f9a\" class=\"colab-df-container\">\n",
              "    <div>\n",
              "<style scoped>\n",
              "    .dataframe tbody tr th:only-of-type {\n",
              "        vertical-align: middle;\n",
              "    }\n",
              "\n",
              "    .dataframe tbody tr th {\n",
              "        vertical-align: top;\n",
              "    }\n",
              "\n",
              "    .dataframe thead th {\n",
              "        text-align: right;\n",
              "    }\n",
              "</style>\n",
              "<table border=\"1\" class=\"dataframe\">\n",
              "  <thead>\n",
              "    <tr style=\"text-align: right;\">\n",
              "      <th></th>\n",
              "      <th>Customer Gender</th>\n",
              "      <th>Ticket Status</th>\n",
              "      <th>gender_encoded</th>\n",
              "      <th>ticket_status_encoded</th>\n",
              "    </tr>\n",
              "  </thead>\n",
              "  <tbody>\n",
              "    <tr>\n",
              "      <th>0</th>\n",
              "      <td>Male</td>\n",
              "      <td>Open</td>\n",
              "      <td>1</td>\n",
              "      <td>1</td>\n",
              "    </tr>\n",
              "    <tr>\n",
              "      <th>1</th>\n",
              "      <td>Female</td>\n",
              "      <td>Closed</td>\n",
              "      <td>0</td>\n",
              "      <td>0</td>\n",
              "    </tr>\n",
              "    <tr>\n",
              "      <th>2</th>\n",
              "      <td>Male</td>\n",
              "      <td>Open</td>\n",
              "      <td>1</td>\n",
              "      <td>1</td>\n",
              "    </tr>\n",
              "    <tr>\n",
              "      <th>3</th>\n",
              "      <td>Female</td>\n",
              "      <td>Pending</td>\n",
              "      <td>0</td>\n",
              "      <td>2</td>\n",
              "    </tr>\n",
              "    <tr>\n",
              "      <th>4</th>\n",
              "      <td>Male</td>\n",
              "      <td>Closed</td>\n",
              "      <td>1</td>\n",
              "      <td>0</td>\n",
              "    </tr>\n",
              "  </tbody>\n",
              "</table>\n",
              "</div>\n",
              "    <div class=\"colab-df-buttons\">\n",
              "\n",
              "  <div class=\"colab-df-container\">\n",
              "    <button class=\"colab-df-convert\" onclick=\"convertToInteractive('df-63f0ca83-a096-4e1b-94c0-6d4e67d75f9a')\"\n",
              "            title=\"Convert this dataframe to an interactive table.\"\n",
              "            style=\"display:none;\">\n",
              "\n",
              "  <svg xmlns=\"http://www.w3.org/2000/svg\" height=\"24px\" viewBox=\"0 -960 960 960\">\n",
              "    <path d=\"M120-120v-720h720v720H120Zm60-500h600v-160H180v160Zm220 220h160v-160H400v160Zm0 220h160v-160H400v160ZM180-400h160v-160H180v160Zm440 0h160v-160H620v160ZM180-180h160v-160H180v160Zm440 0h160v-160H620v160Z\"/>\n",
              "  </svg>\n",
              "    </button>\n",
              "\n",
              "  <style>\n",
              "    .colab-df-container {\n",
              "      display:flex;\n",
              "      gap: 12px;\n",
              "    }\n",
              "\n",
              "    .colab-df-convert {\n",
              "      background-color: #E8F0FE;\n",
              "      border: none;\n",
              "      border-radius: 50%;\n",
              "      cursor: pointer;\n",
              "      display: none;\n",
              "      fill: #1967D2;\n",
              "      height: 32px;\n",
              "      padding: 0 0 0 0;\n",
              "      width: 32px;\n",
              "    }\n",
              "\n",
              "    .colab-df-convert:hover {\n",
              "      background-color: #E2EBFA;\n",
              "      box-shadow: 0px 1px 2px rgba(60, 64, 67, 0.3), 0px 1px 3px 1px rgba(60, 64, 67, 0.15);\n",
              "      fill: #174EA6;\n",
              "    }\n",
              "\n",
              "    .colab-df-buttons div {\n",
              "      margin-bottom: 4px;\n",
              "    }\n",
              "\n",
              "    [theme=dark] .colab-df-convert {\n",
              "      background-color: #3B4455;\n",
              "      fill: #D2E3FC;\n",
              "    }\n",
              "\n",
              "    [theme=dark] .colab-df-convert:hover {\n",
              "      background-color: #434B5C;\n",
              "      box-shadow: 0px 1px 3px 1px rgba(0, 0, 0, 0.15);\n",
              "      filter: drop-shadow(0px 1px 2px rgba(0, 0, 0, 0.3));\n",
              "      fill: #FFFFFF;\n",
              "    }\n",
              "  </style>\n",
              "\n",
              "    <script>\n",
              "      const buttonEl =\n",
              "        document.querySelector('#df-63f0ca83-a096-4e1b-94c0-6d4e67d75f9a button.colab-df-convert');\n",
              "      buttonEl.style.display =\n",
              "        google.colab.kernel.accessAllowed ? 'block' : 'none';\n",
              "\n",
              "      async function convertToInteractive(key) {\n",
              "        const element = document.querySelector('#df-63f0ca83-a096-4e1b-94c0-6d4e67d75f9a');\n",
              "        const dataTable =\n",
              "          await google.colab.kernel.invokeFunction('convertToInteractive',\n",
              "                                                    [key], {});\n",
              "        if (!dataTable) return;\n",
              "\n",
              "        const docLinkHtml = 'Like what you see? Visit the ' +\n",
              "          '<a target=\"_blank\" href=https://colab.research.google.com/notebooks/data_table.ipynb>data table notebook</a>'\n",
              "          + ' to learn more about interactive tables.';\n",
              "        element.innerHTML = '';\n",
              "        dataTable['output_type'] = 'display_data';\n",
              "        await google.colab.output.renderOutput(dataTable, element);\n",
              "        const docLink = document.createElement('div');\n",
              "        docLink.innerHTML = docLinkHtml;\n",
              "        element.appendChild(docLink);\n",
              "      }\n",
              "    </script>\n",
              "  </div>\n",
              "\n",
              "\n",
              "<div id=\"df-a3cef25d-b3f7-4437-97cf-be07629b94ee\">\n",
              "  <button class=\"colab-df-quickchart\" onclick=\"quickchart('df-a3cef25d-b3f7-4437-97cf-be07629b94ee')\"\n",
              "            title=\"Suggest charts.\"\n",
              "            style=\"display:none;\">\n",
              "\n",
              "<svg xmlns=\"http://www.w3.org/2000/svg\" height=\"24px\"viewBox=\"0 0 24 24\"\n",
              "     width=\"24px\">\n",
              "    <g>\n",
              "        <path d=\"M19 3H5c-1.1 0-2 .9-2 2v14c0 1.1.9 2 2 2h14c1.1 0 2-.9 2-2V5c0-1.1-.9-2-2-2zM9 17H7v-7h2v7zm4 0h-2V7h2v10zm4 0h-2v-4h2v4z\"/>\n",
              "    </g>\n",
              "</svg>\n",
              "  </button>\n",
              "\n",
              "<style>\n",
              "  .colab-df-quickchart {\n",
              "    background-color: #E8F0FE;\n",
              "    border: none;\n",
              "    border-radius: 50%;\n",
              "    cursor: pointer;\n",
              "    display: none;\n",
              "    fill: #1967D2;\n",
              "    height: 32px;\n",
              "    padding: 0 0 0 0;\n",
              "    width: 32px;\n",
              "  }\n",
              "\n",
              "  .colab-df-quickchart:hover {\n",
              "    background-color: #E2EBFA;\n",
              "    box-shadow: 0px 1px 2px rgba(60, 64, 67, 0.3), 0px 1px 3px 1px rgba(60, 64, 67, 0.15);\n",
              "    fill: #174EA6;\n",
              "  }\n",
              "\n",
              "  [theme=dark] .colab-df-quickchart {\n",
              "    background-color: #3B4455;\n",
              "    fill: #D2E3FC;\n",
              "  }\n",
              "\n",
              "  [theme=dark] .colab-df-quickchart:hover {\n",
              "    background-color: #434B5C;\n",
              "    box-shadow: 0px 1px 3px 1px rgba(0, 0, 0, 0.15);\n",
              "    filter: drop-shadow(0px 1px 2px rgba(0, 0, 0, 0.3));\n",
              "    fill: #FFFFFF;\n",
              "  }\n",
              "</style>\n",
              "\n",
              "  <script>\n",
              "    async function quickchart(key) {\n",
              "      const charts = await google.colab.kernel.invokeFunction(\n",
              "          'suggestCharts', [key], {});\n",
              "    }\n",
              "    (() => {\n",
              "      let quickchartButtonEl =\n",
              "        document.querySelector('#df-a3cef25d-b3f7-4437-97cf-be07629b94ee button');\n",
              "      quickchartButtonEl.style.display =\n",
              "        google.colab.kernel.accessAllowed ? 'block' : 'none';\n",
              "    })();\n",
              "  </script>\n",
              "</div>\n",
              "    </div>\n",
              "  </div>\n"
            ]
          },
          "metadata": {},
          "execution_count": 28
        }
      ]
    },
    {
      "cell_type": "markdown",
      "source": [
        "Finding the relationship between numerical variables age,product rating using covariance matrix"
      ],
      "metadata": {
        "id": "ce8hlmSKgQnw"
      }
    },
    {
      "cell_type": "markdown",
      "source": [
        "There is null values in satisfaction rating"
      ],
      "metadata": {
        "id": "PVydCfHggjbH"
      }
    },
    {
      "cell_type": "code",
      "source": [
        "customer_data = {'age': [22, 28, 31, 37, 42, 47, 53, 60],\n",
        "        'product_rating': [4.5, 3.8, 4.2, 4.0, 4.7, 3.5, 4.8, 4.2],\n",
        "          'age_group': ['18-25', '25-35', '25-35', '35-40', '40-45', '45-50', '50+', '50+']}\n",
        "df = pd.DataFrame(customer_data)\n",
        "\n",
        "\n",
        "covariance_matrix = df.cov()\n",
        "\n",
        "print(\"Covariance Matrix:\")\n",
        "print(covariance_matrix)\n",
        "\n",
        "plt.figure(figsize=(10, 6))\n",
        "sns.boxplot(x='age_group', y='product_rating', data=df, palette=\"Set3\")\n",
        "plt.xlabel(\"Age Group\")\n",
        "plt.ylabel(\"Product Rating\")\n",
        "plt.title(\"Distribution of Product Ratings Across Age Groups\")\n",
        "plt.xticks(rotation=45)\n",
        "plt.tight_layout()\n",
        "plt.show()"
      ],
      "metadata": {
        "colab": {
          "base_uri": "https://localhost:8080/",
          "height": 725
        },
        "id": "Sf17lRkqgnP8",
        "outputId": "235f8280-7759-48d2-f656-344f374113b1"
      },
      "execution_count": 42,
      "outputs": [
        {
          "output_type": "stream",
          "name": "stderr",
          "text": [
            "<ipython-input-42-f28801ed9ea9>:7: FutureWarning: The default value of numeric_only in DataFrame.cov is deprecated. In a future version, it will default to False. Select only valid columns or specify the value of numeric_only to silence this warning.\n",
            "  covariance_matrix = df.cov()\n"
          ]
        },
        {
          "output_type": "stream",
          "name": "stdout",
          "text": [
            "Covariance Matrix:\n",
            "                       age  product_rating\n",
            "age             168.571429        0.557143\n",
            "product_rating    0.557143        0.198393\n"
          ]
        },
        {
          "output_type": "display_data",
          "data": {
            "text/plain": [
              "<Figure size 1000x600 with 1 Axes>"
            ],
            "image/png": "[encoded data removed]"
          },
          "metadata": {}
        }
      ]
    },
    {
      "cell_type": "code",
      "source": [],
      "metadata": {
        "id": "kEGNBMyHneqy"
      },
      "execution_count": null,
      "outputs": []
    }
  ]
}