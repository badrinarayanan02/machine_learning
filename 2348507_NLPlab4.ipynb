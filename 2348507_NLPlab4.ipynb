{
  "nbformat": 4,
  "nbformat_minor": 0,
  "metadata": {
    "colab": {
      "provenance": [],
      "authorship_tag": "ABX9TyOcpsJRWb44p9Te2iti77JU",
      "include_colab_link": true
    },
    "kernelspec": {
      "name": "python3",
      "display_name": "Python 3"
    },
    "language_info": {
      "name": "python"
    }
  },
  "cells": [
    {
      "cell_type": "markdown",
      "metadata": {
        "id": "view-in-github",
        "colab_type": "text"
      },
      "source": [
        "<a href=\"https://colab.research.google.com/github/badrinarayanan02/machine_learning/blob/main/2348507_NLPlab4.ipynb\" target=\"_parent\"><img src=\"https://colab.research.google.com/assets/colab-badge.svg\" alt=\"Open In Colab\"/></a>"
      ]
    },
    {
      "cell_type": "markdown",
      "source": [
        "# **Manipulations using WordNet Lexical Database**"
      ],
      "metadata": {
        "id": "VuFaHe7YiQ0F"
      }
    },
    {
      "cell_type": "markdown",
      "source": [
        "Program to get synonyms from WordNet. (5 words minimum for all the sub questions, for\n",
        "instance: - bear, set, square, lead, criteria)\n",
        "\n"
      ],
      "metadata": {
        "id": "PLMU-W4vNK1J"
      }
    },
    {
      "cell_type": "code",
      "source": [
        "pip install nltk"
      ],
      "metadata": {
        "colab": {
          "base_uri": "https://localhost:8080/"
        },
        "id": "HI3ig4KqiZLy",
        "outputId": "fcb353b0-c1ee-4201-c775-ecddea12cbed"
      },
      "execution_count": 1,
      "outputs": [
        {
          "output_type": "stream",
          "name": "stdout",
          "text": [
            "Requirement already satisfied: nltk in /usr/local/lib/python3.10/dist-packages (3.8.1)\n",
            "Requirement already satisfied: click in /usr/local/lib/python3.10/dist-packages (from nltk) (8.1.7)\n",
            "Requirement already satisfied: joblib in /usr/local/lib/python3.10/dist-packages (from nltk) (1.3.2)\n",
            "Requirement already satisfied: regex>=2021.8.3 in /usr/local/lib/python3.10/dist-packages (from nltk) (2023.12.25)\n",
            "Requirement already satisfied: tqdm in /usr/local/lib/python3.10/dist-packages (from nltk) (4.66.2)\n"
          ]
        }
      ]
    },
    {
      "cell_type": "code",
      "execution_count": 3,
      "metadata": {
        "id": "4YowRvLfMGpU",
        "colab": {
          "base_uri": "https://localhost:8080/"
        },
        "outputId": "6648337e-a540-482c-c6af-f8643da22a2a"
      },
      "outputs": [
        {
          "output_type": "stream",
          "name": "stderr",
          "text": [
            "[nltk_data] Downloading package wordnet to /root/nltk_data...\n"
          ]
        },
        {
          "output_type": "execute_result",
          "data": {
            "text/plain": [
              "True"
            ]
          },
          "metadata": {},
          "execution_count": 3
        }
      ],
      "source": [
        "import nltk\n",
        "nltk.download('wordnet')"
      ]
    },
    {
      "cell_type": "markdown",
      "source": [
        "a) Find the 3rd meaning of the word in the list."
      ],
      "metadata": {
        "id": "XfH3_dZ5iZT6"
      }
    },
    {
      "cell_type": "code",
      "source": [
        "from nltk.corpus import wordnet\n",
        "\n",
        "def find_3rd_meaning(word):\n",
        "    synsets = wordnet.synsets(word)\n",
        "    if len(synsets) >= 3:\n",
        "        return synsets[2].definition()\n",
        "    else:\n",
        "        return f\"The word '{word}' does not have 3 distinct meanings in WordNet.\"\n",
        "\n",
        "words = [\"bear\", \"set\", \"square\", \"lead\", \"criteria\"]\n",
        "for word in words:\n",
        "    print(f\"The 3rd meaning of '{word}' is: {find_3rd_meaning(word)}\")"
      ],
      "metadata": {
        "colab": {
          "base_uri": "https://localhost:8080/"
        },
        "id": "fiKwG92XkOSt",
        "outputId": "84ef8a84-f6eb-47d8-a3aa-a147fdb02e88"
      },
      "execution_count": 29,
      "outputs": [
        {
          "output_type": "stream",
          "name": "stdout",
          "text": [
            "The 3rd meaning of 'bear' is: have\n",
            "The 3rd meaning of 'set' is: several exercises intended to be done in series\n",
            "The 3rd meaning of 'square' is: an open area at the meeting of two or more streets\n",
            "The 3rd meaning of 'lead' is: evidence pointing to a possible solution\n",
            "The 3rd meaning of 'criteria' is: The word 'criteria' does not have 3 distinct meanings in WordNet.\n"
          ]
        }
      ]
    },
    {
      "cell_type": "markdown",
      "source": [
        "**Inference:** The 3rd meaning of the word in the list was founded successfully."
      ],
      "metadata": {
        "id": "JGEI-i7IlIqI"
      }
    },
    {
      "cell_type": "markdown",
      "source": [
        "b) Extract the nouns of the word from the synonyms list."
      ],
      "metadata": {
        "id": "k_7JkvDZnuz8"
      }
    },
    {
      "cell_type": "code",
      "source": [
        "def get_nouns_from_synonyms(word):\n",
        "    synonyms = wordnet.synsets(word)\n",
        "    noun_list = []\n",
        "\n",
        "    for syn in synonyms:\n",
        "        for lemma in syn.lemmas():\n",
        "            if lemma.synset().pos() == 'n':  # checking if the lemma is a noun\n",
        "                noun_list.append(lemma.name())\n",
        "\n",
        "    return list(set(noun_list))\n",
        "\n",
        "words = [\"bear\", \"set\", \"square\", \"lead\", \"criteria\"]\n",
        "\n",
        "for word in words:\n",
        "    nouns = get_nouns_from_synonyms(word)\n",
        "    if nouns:\n",
        "        print(f\"Nouns associated with '{word}': {nouns}\")\n",
        "    else:\n",
        "        print(f\"No nouns found for '{word}' in WordNet.\")"
      ],
      "metadata": {
        "colab": {
          "base_uri": "https://localhost:8080/"
        },
        "id": "MNTRtyBRnuKk",
        "outputId": "f8ccd6e4-3269-4c2b-91b7-426c94247b84"
      },
      "execution_count": 31,
      "outputs": [
        {
          "output_type": "stream",
          "name": "stdout",
          "text": [
            "Nouns associated with 'bear': ['bear']\n",
            "Nouns associated with 'set': ['solidification', 'circle', 'exercise_set', 'solidifying', 'stage_set', 'lot', 'curing', 'bent', 'band', 'Seth', 'Set', 'readiness', 'set', 'hardening']\n",
            "Nouns associated with 'square': ['second_power', 'square', 'public_square', 'square_toes', 'foursquare', 'lame']\n",
            "Nouns associated with 'lead': ['Pb', 'confidential_information', 'jumper_lead', 'trail', 'lead_story', 'lede', 'jumper_cable', 'lead', 'star', 'leading', 'lead-in', 'track', 'steer', 'principal', 'pencil_lead', 'atomic_number_82', 'spark_advance', 'tether', 'booster_cable', 'leash', 'hint', 'wind', 'tip']\n",
            "Nouns associated with 'criteria': ['measure', 'criterion', 'standard', 'touchstone']\n"
          ]
        }
      ]
    },
    {
      "cell_type": "markdown",
      "source": [
        "**Inference:** Thus the nouns associated with each word from the given list is displayed successfully."
      ],
      "metadata": {
        "id": "AmNVgysmn-Yt"
      }
    },
    {
      "cell_type": "markdown",
      "source": [
        "c) Extract the verbs of the word from the synonyms list."
      ],
      "metadata": {
        "id": "tAVgRNOxqE9y"
      }
    },
    {
      "cell_type": "code",
      "source": [
        "def get_verbs_from_synonyms(word):\n",
        "    synonyms = wordnet.synsets(word)\n",
        "    verb_list = []\n",
        "\n",
        "    for syn in synonyms:\n",
        "        for lemma in syn.lemmas():\n",
        "            if lemma.synset().pos() == 'v':\n",
        "                verb_list.append(lemma.name())\n",
        "\n",
        "    return list(set(verb_list))\n",
        "\n",
        "words = [\"bear\", \"set\", \"square\", \"lead\", \"criteria\"]\n",
        "\n",
        "for word in words:\n",
        "    verbs = get_verbs_from_synonyms(word)\n",
        "    if verbs:\n",
        "        print(f\"Verbs associated with '{word}': {verbs}\")\n",
        "    else:\n",
        "        print(f\"No verbs found for '{word}' in WordNet.\")"
      ],
      "metadata": {
        "colab": {
          "base_uri": "https://localhost:8080/"
        },
        "id": "SKXxtS31nuQd",
        "outputId": "38120d1a-3947-4e58-b5ba-6ad5f78b7615"
      },
      "execution_count": 32,
      "outputs": [
        {
          "output_type": "stream",
          "name": "stdout",
          "text": [
            "Verbs associated with 'bear': ['comport', 'support', 'give_birth', 'digest', 'deport', 'hold', 'pay', 'stand', 'behave', 'stomach', 'have', 'brook', 'carry', 'acquit', 'take_over', 'birth', 'expect', 'deliver', 'conduct', 'put_up', 'abide', 'accept', 'tolerate', 'contain', 'wear', 'assume', 'gestate', 'stick_out', 'turn_out', 'suffer', 'bear', 'yield', 'have_a_bun_in_the_oven', 'endure']\n",
            "Verbs associated with 'set': ['congeal', 'limit', 'rig', 'do', 'set', 'correct', 'typeset', 'countersink', 'specify', 'fructify', 'prepare', 'mark', 'adjust', 'lay', 'fix', 'go_down', 'position', 'set_up', 'gear_up', 'ready', 'localize', 'localise', 'dress', 'put', 'define', 'sic', 'coiffure', 'coif', 'go_under', 'lay_out', 'pose', 'arrange', 'plant', 'coiffe', 'determine', 'place', 'jell']\n",
            "Verbs associated with 'square': ['square_up', 'square', 'feather']\n",
            "Verbs associated with 'lead': ['direct', 'head', 'conduce', 'extend', 'moderate', 'chair', 'run', 'lead', 'result', 'precede', 'go', 'pass', 'top', 'contribute', 'take', 'conduct', 'leave', 'guide']\n",
            "No verbs found for 'criteria' in WordNet.\n"
          ]
        }
      ]
    },
    {
      "cell_type": "markdown",
      "source": [
        "**Inference:** Verbs associated with the given words are displayed succesfully."
      ],
      "metadata": {
        "id": "rPgRqwdtq-vg"
      }
    },
    {
      "cell_type": "markdown",
      "source": [
        "d) Extract the adjectives of the word from the synonyms list."
      ],
      "metadata": {
        "id": "XUIPLyY-rb4k"
      }
    },
    {
      "cell_type": "code",
      "source": [
        "def get_adjectives_from_synonyms(word):\n",
        "    synonyms = wordnet.synsets(word)\n",
        "    adjective_list = []\n",
        "\n",
        "    for syn in synonyms:\n",
        "        for lemma in syn.lemmas():\n",
        "            if lemma.synset().pos() == 'a':  # checking if the lemma is an adjective\n",
        "                adjective_list.append(lemma.name())\n",
        "\n",
        "    return list(set(adjective_list))\n",
        "\n",
        "words = [\"bear\", \"set\", \"square\", \"lead\", \"criteria\"]\n",
        "\n",
        "for word in words:\n",
        "    adjectives = get_adjectives_from_synonyms(word)\n",
        "    if adjectives:\n",
        "        print(f\"Adjectives associated with '{word}': {adjectives}\")\n",
        "    else:\n",
        "        print(f\"No adjectives found for '{word}' in WordNet.\")"
      ],
      "metadata": {
        "colab": {
          "base_uri": "https://localhost:8080/"
        },
        "id": "wKvCqiqrrcc4",
        "outputId": "e57d7052-842a-4776-edd2-d2812f8f1235"
      },
      "execution_count": 27,
      "outputs": [
        {
          "output_type": "stream",
          "name": "stdout",
          "text": [
            "No adjectives found for 'bear' in WordNet.\n",
            "No adjectives found for 'set' in WordNet.\n",
            "Adjectives associated with 'square': ['square', 'straight']\n",
            "No adjectives found for 'lead' in WordNet.\n",
            "No adjectives found for 'criteria' in WordNet.\n"
          ]
        }
      ]
    },
    {
      "cell_type": "markdown",
      "source": [
        "**Inference:** Adjectives associated with the given words are obtained succesfully."
      ],
      "metadata": {
        "id": "YGqBX3OW2xQq"
      }
    },
    {
      "cell_type": "markdown",
      "source": [
        "e) Extract the adverbs of the word from the synonyms list."
      ],
      "metadata": {
        "id": "sJHhqqlL24IS"
      }
    },
    {
      "cell_type": "code",
      "source": [
        "def get_adverbs_from_synonyms(word):\n",
        "    synonyms = wordnet.synsets(word)\n",
        "    adverb_list = []\n",
        "\n",
        "    for syn in synonyms:\n",
        "        for lemma in syn.lemmas():\n",
        "            if lemma.synset().pos() == 'r':\n",
        "                adverb_list.append(lemma.name())\n",
        "\n",
        "    return list(set(adverb_list))\n",
        "\n",
        "words = [\"bear\", \"set\", \"square\", \"lead\", \"criteria\"]\n",
        "\n",
        "for word in words:\n",
        "    adverbs = get_adverbs_from_synonyms(word)\n",
        "    if adverbs:\n",
        "        print(f\"Adverbs associated with '{word}': {adverbs}\")\n",
        "    else:\n",
        "        print(f\"No adverbs found for '{word}' in WordNet.\")"
      ],
      "metadata": {
        "colab": {
          "base_uri": "https://localhost:8080/"
        },
        "id": "lse1zrZdtq4i",
        "outputId": "818f544d-2dc1-4f60-f0be-9568459b3254"
      },
      "execution_count": 34,
      "outputs": [
        {
          "output_type": "stream",
          "name": "stdout",
          "text": [
            "No adverbs found for 'bear' in WordNet.\n",
            "No adverbs found for 'set' in WordNet.\n",
            "Adverbs associated with 'square': ['squarely', 'square']\n",
            "No adverbs found for 'lead' in WordNet.\n",
            "No adverbs found for 'criteria' in WordNet.\n"
          ]
        }
      ]
    },
    {
      "cell_type": "markdown",
      "source": [
        "**Inference:** Only the word square has a associated adverb called squarely and square."
      ],
      "metadata": {
        "id": "Xa8C9iYB3GAO"
      }
    },
    {
      "cell_type": "markdown",
      "source": [
        "f) Extract the definition of the word. (For instance, ‘Bear’ - massive plantigrade carnivorous or  omnivorous mammals with long shaggy coats and strong claws)"
      ],
      "metadata": {
        "id": "k9qRHFVev2IL"
      }
    },
    {
      "cell_type": "code",
      "source": [
        "def get_definition(word):\n",
        "    synsets = wordnet.synsets(word)\n",
        "    if synsets:\n",
        "        # getting the definition of the first synset\n",
        "        definition = synsets[0].definition()\n",
        "        return definition\n",
        "    else:\n",
        "        return \"No definition found.\"\n",
        "\n",
        "words = [\"bear\", \"set\", \"square\", \"lead\", \"criteria\"]\n",
        "\n",
        "for word in words:\n",
        "    definition = get_definition(word)\n",
        "    print(f\"Definition for '{word}': {definition}\")"
      ],
      "metadata": {
        "colab": {
          "base_uri": "https://localhost:8080/"
        },
        "id": "jqWPgT2juzbp",
        "outputId": "2998027c-0c58-44ef-8e0d-fa70c46eb076"
      },
      "execution_count": 11,
      "outputs": [
        {
          "output_type": "stream",
          "name": "stdout",
          "text": [
            "Definition for 'bear': massive plantigrade carnivorous or omnivorous mammals with long shaggy coats and strong claws\n",
            "Definition for 'set': a group of things of the same kind that belong together and are so used\n",
            "Definition for 'square': (geometry) a plane rectangle with four equal sides and four right angles; a four-sided regular polygon\n",
            "Definition for 'lead': an advantage held by a competitor in a race\n",
            "Definition for 'criteria': a basis for comparison; a reference point against which other things can be evaluated\n"
          ]
        }
      ]
    },
    {
      "cell_type": "markdown",
      "source": [
        "**Inference:** Thus definition for each word is obtained successfully."
      ],
      "metadata": {
        "id": "AdeDbQIJv3fu"
      }
    },
    {
      "cell_type": "markdown",
      "source": [
        "g) Find the hypernyms of each word."
      ],
      "metadata": {
        "id": "H9EE5clZv9mc"
      }
    },
    {
      "cell_type": "code",
      "source": [
        "def get_hypernyms(word):\n",
        "    synsets = wordnet.synsets(word)\n",
        "    hypernyms = []\n",
        "\n",
        "    for synset in synsets:\n",
        "        hypernyms.extend(synset.hypernyms())\n",
        "\n",
        "    hypernyms_names = [hypernym.name().split('.')[0] for hypernym in hypernyms]\n",
        "    return list(set(hypernyms_names))  # using set to remove duplicates\n",
        "\n",
        "words = [\"bear\", \"set\", \"square\", \"lead\", \"criteria\"]\n",
        "\n",
        "for word in words:\n",
        "    hypernyms = get_hypernyms(word)\n",
        "    print(f\"Hypernyms for '{word}': {', '.join(hypernyms)}\")"
      ],
      "metadata": {
        "colab": {
          "base_uri": "https://localhost:8080/"
        },
        "id": "hUFThFmZv9Zy",
        "outputId": "6ade0e95-fd33-4cfc-fa93-b8b28e8599ca"
      },
      "execution_count": 13,
      "outputs": [
        {
          "output_type": "stream",
          "name": "stdout",
          "text": [
            "Hypernyms for 'bear': transport, hold, have, permit, include, give_birth, make, act, investor, carnivore, take, produce, gain\n",
            "Hypernyms for 'set': move, estimate, groom, change, cognitive_state, collection, equip, adjust, social_group, placement, fix, abstraction, stage, playing_period, put, natural_process, print, electronic_equipment, solidify, hone, descend, originate, exercise, choose, compose, arrange, representation, inclination, assail, reproduce, descent, lay_down, bury\n",
            "Hypernyms for 'square': number, multiply, match, shape, regular_polygon, position, settle, tract, artifact, hand_tool, adjust, row, simpleton, rectangle, paddle, conservative\n",
            "Hypernyms for 'lead': perform, angle, pass, produce, guidance, hash_out, jumper, section, travel, be, strip, leadership, restraint, advantage, promote, metallic_element, direct, position, actor, graphite, turn, precede, induce, wire, timing, leave, evidence, score, news_article\n",
            "Hypernyms for 'criteria': system_of_measurement, ideal\n"
          ]
        }
      ]
    },
    {
      "cell_type": "markdown",
      "source": [
        "**Inference:** Thus the hypernyms of each word was obtained successfully."
      ],
      "metadata": {
        "id": "TC6iw7jVwWIq"
      }
    },
    {
      "cell_type": "markdown",
      "source": [
        "h) Find the hyponyms of each word."
      ],
      "metadata": {
        "id": "rUbAniNiw896"
      }
    },
    {
      "cell_type": "code",
      "source": [
        "def get_hyponyms(word):\n",
        "    synsets = wordnet.synsets(word)\n",
        "    hyponyms = []\n",
        "\n",
        "    for synset in synsets:\n",
        "        hyponyms.extend(synset.hyponyms())\n",
        "\n",
        "    hyponyms_names = [hyponym.name().split('.')[0] for hyponym in hyponyms]\n",
        "    return list(set(hyponyms_names))\n",
        "\n",
        "words = [\"bear\", \"set\", \"square\", \"lead\", \"criteria\"]\n",
        "\n",
        "for word in words:\n",
        "    hyponyms = get_hyponyms(word)\n",
        "    print(f\"Hyponyms for '{word}': {', '.join(hyponyms)}\")"
      ],
      "metadata": {
        "colab": {
          "base_uri": "https://localhost:8080/"
        },
        "id": "AbkzfBvtw8N9",
        "outputId": "5514e533-aac6-4d82-a414-ac30f7be2d4f"
      },
      "execution_count": 15,
      "outputs": [
        {
          "output_type": "stream",
          "name": "stdout",
          "text": [
            "Hyponyms for 'bear': drop, sling, overbear, piggyback, foal, brown_bear, pay_off, pay, cub, behave, deal, carry, farrow, face_the_music, fluster, american_black_bear, whelp, calve, twin, asiatic_black_bear, stand_for, stoop, crop, fruit, sloth_bear, accept, fawn, bear_up, take_lying_down, seed, spin_off, lamb, retain, sit_out, frogmarch, poise, enclose, walk_around, take_a_joke, net, ice_bear, pose, bruin, kitten, bear_cub, litter, assert, have_a_bun_in_the_oven\n",
            "Hyponyms for 'set': stratify, field, bed, receiver, provide, stand, seat, upend, group, diagonal, format, siphon, union, load, image, time, replace, space, mandelbrot_set, transmitter, replant, keynote, put, park, clique, perch, quantify, pressurize, define, subset, poise, proportion, precondition, pile, underlay, modulate, suite, threescore, quartet, solution, trench, conjugation, ship, settle, tree, value, charge, jet_set, middle, table, plumb, postpose, step, lean, lay, locus, price, fix, glycerolize, ladle, synchronize, position, set_up, trio, name, situate, identify, advance, temper, attune, prime, cultivate, reposition, bob, recess, arrange, plant, zero, cohort, regulate, chess_set, linearize, date, recline, superpose, insert, root, set, justify, align, manicure_set, septet, dispose, focus, appose, party, depressurize, core, bucket, dentition, mathematical_space, docket, intersperse, ground, interval, clap, rest, barrel, calibrate, harmonize, repose, singleton, domain, shelve, puddle, readjust, dibble, superimpose, afforest, nestle, car_pool, sign, filiate, citify, bracket, install, imbricate, checkrow, synset, octet, set_down, tax, choir, null_set, sow, summerize, misplace, marshal, ensconce, universal_set, pigeonhole, parallelize, prepose, transpose, wave, mount, intersection, four_hundred, jar, socialize, tune, portfolio, tee, coffin, butt, trim, throw, cock, quintet, prearrange, congealment, cram, match, pillow, pitch, conspiracy, juxtapose, winterize, reset, score, brace, rack_up, scenery, horsy_set, initialize, sextet, bottle, pair, emplace\n",
            "Hyponyms for 'square': t-square, plaza, try_square, quadrate, square_up, carpenter's_square\n",
            "Hyponyms for 'lead': entail, hard_lead, mislead, come, take_hold, go_far, clip_lead, lead, usher, pig_lead, idol, radiate, television_star, hand, draw_away, spearhead, film_star, chair, necessitate, beacon, give, captain, co-star\n",
            "Hyponyms for 'criteria': grade_point_average, baseline, benchmark, design_criteria, earned_run_average, norm, control_condition, medium_of_exchange, yardstick, procrustean_standard, scale, gauge\n"
          ]
        }
      ]
    },
    {
      "cell_type": "markdown",
      "source": [
        "**Inference:** Thus the hyponyms of each word was obtained successfully."
      ],
      "metadata": {
        "id": "4shBAzR3yZlD"
      }
    },
    {
      "cell_type": "markdown",
      "source": [
        "i) Find the similarities of any two hyponyms of a word"
      ],
      "metadata": {
        "id": "0lAMqpopycQj"
      }
    },
    {
      "cell_type": "code",
      "source": [
        "def find_hyponym_similarities(word):\n",
        "    synsets = wordnet.synsets(word)\n",
        "    if synsets and len(synsets[0].hyponyms()) >= 2:\n",
        "        hyponym1 = synsets[0].hyponyms()[0]\n",
        "        hyponym2 = synsets[0].hyponyms()[1]\n",
        "        shared_characteristics = set(hyponym1.common_hypernyms(hyponym2))\n",
        "        print(f\"Similarities between '{hyponym1}' and '{hyponym2}': {shared_characteristics}\")\n",
        "\n",
        "for word in words:\n",
        "    find_hyponym_similarities(word)"
      ],
      "metadata": {
        "colab": {
          "base_uri": "https://localhost:8080/"
        },
        "id": "Ae_UCSw2ymYd",
        "outputId": "aada28a2-2517-4ccf-dce7-05f5667d51d9"
      },
      "execution_count": 22,
      "outputs": [
        {
          "output_type": "stream",
          "name": "stdout",
          "text": [
            "Similarities between 'Synset('american_black_bear.n.01')' and 'Synset('asiatic_black_bear.n.01')': {Synset('vertebrate.n.01'), Synset('carnivore.n.01'), Synset('mammal.n.01'), Synset('entity.n.01'), Synset('placental.n.01'), Synset('bear.n.01'), Synset('whole.n.02'), Synset('organism.n.01'), Synset('physical_entity.n.01'), Synset('chordate.n.01'), Synset('object.n.01'), Synset('animal.n.01'), Synset('living_thing.n.01')}\n",
            "Similarities between 'Synset('bracket.n.01')' and 'Synset('chess_set.n.01')': {Synset('set.n.01'), Synset('collection.n.01'), Synset('entity.n.01'), Synset('group.n.01'), Synset('abstraction.n.06')}\n",
            "Similarities between 'Synset('baseline.n.01')' and 'Synset('benchmark.n.01')': {Synset('measure.n.02'), Synset('system_of_measurement.n.01'), Synset('standard.n.01'), Synset('entity.n.01'), Synset('abstraction.n.06')}\n"
          ]
        }
      ]
    },
    {
      "cell_type": "markdown",
      "source": [
        "**Inference:** Thus the similarities of any two hyponyms of a word is obtained successfully."
      ],
      "metadata": {
        "id": "KReN03xP0UZL"
      }
    },
    {
      "cell_type": "markdown",
      "source": [
        "# **Conclusion**\n",
        "\n",
        "Thus the required questions are completed for all the instances."
      ],
      "metadata": {
        "id": "Lr3Rca5j4FKl"
      }
    }
  ]
}