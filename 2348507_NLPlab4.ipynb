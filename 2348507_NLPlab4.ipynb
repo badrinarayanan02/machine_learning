{
  "nbformat": 4,
  "nbformat_minor": 0,
  "metadata": {
    "colab": {
      "provenance": [],
      "authorship_tag": "ABX9TyORfwpuLDKQetiB9WXGsaoL",
      "include_colab_link": true
    },
    "kernelspec": {
      "name": "python3",
      "display_name": "Python 3"
    },
    "language_info": {
      "name": "python"
    }
  },
  "cells": [
    {
      "cell_type": "markdown",
      "metadata": {
        "id": "view-in-github",
        "colab_type": "text"
      },
      "source": [
        "<a href=\"https://colab.research.google.com/github/badrinarayanan02/machine_learning/blob/main/2348507_NLPlab4.ipynb\" target=\"_parent\"><img src=\"https://colab.research.google.com/assets/colab-badge.svg\" alt=\"Open In Colab\"/></a>"
      ]
    },
    {
      "cell_type": "markdown",
      "source": [
        "Program to get synonyms from WordNet. (5 words minimum for all the sub questions, for\n",
        "instance: - bear, set, square, lead, criteria)\n",
        "a) Find the 3rd meaning of the word in the list.\n",
        "b) Extract the nouns of the word from the synonyms list.\n",
        "c) Extract the verbs of the word from the synonyms list.\n",
        "d) Extract the adjectives of the word from the synonyms list.\n",
        "e) Extract the adverbs of the word from the synonyms list.\n",
        "f) Extract the definition of the word. (For instance, ‘Bear’ - massive plantigrade carnivorous or\n",
        "omnivorous mammals with long shaggy coats and strong claws)\n",
        "g) Find the hypernyms of each word.\n",
        "h) Find the hyponyms of each word.\n",
        "i) Find the similarities of any two hyponyms of a word."
      ],
      "metadata": {
        "id": "PLMU-W4vNK1J"
      }
    },
    {
      "cell_type": "code",
      "execution_count": null,
      "metadata": {
        "id": "4YowRvLfMGpU"
      },
      "outputs": [],
      "source": []
    }
  ]
}