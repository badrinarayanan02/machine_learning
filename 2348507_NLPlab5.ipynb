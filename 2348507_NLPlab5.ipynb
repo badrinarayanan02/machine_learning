{
  "nbformat": 4,
  "nbformat_minor": 0,
  "metadata": {
    "colab": {
      "provenance": [],
      "authorship_tag": "ABX9TyOdiXwDmZ9AV4MuBjYFOHS2",
      "include_colab_link": true
    },
    "kernelspec": {
      "name": "python3",
      "display_name": "Python 3"
    },
    "language_info": {
      "name": "python"
    }
  },
  "cells": [
    {
      "cell_type": "markdown",
      "metadata": {
        "id": "view-in-github",
        "colab_type": "text"
      },
      "source": [
        "<a href=\"https://colab.research.google.com/github/badrinarayanan02/machine_learning/blob/main/2348507_NLPlab5.ipynb\" target=\"_parent\"><img src=\"https://colab.research.google.com/assets/colab-badge.svg\" alt=\"Open In Colab\"/></a>"
      ]
    },
    {
      "cell_type": "markdown",
      "source": [
        "# **Lab 5**\n"
      ],
      "metadata": {
        "id": "SLgnT3J23yoD"
      }
    },
    {
      "cell_type": "code",
      "execution_count": 15,
      "metadata": {
        "colab": {
          "base_uri": "https://localhost:8080/"
        },
        "id": "krmY4mCv3gZ7",
        "outputId": "4df667ce-e58e-4322-c074-b3f115d5976d"
      },
      "outputs": [
        {
          "output_type": "stream",
          "name": "stderr",
          "text": [
            "[nltk_data] Downloading package wordnet to /root/nltk_data...\n",
            "[nltk_data]   Package wordnet is already up-to-date!\n"
          ]
        },
        {
          "output_type": "execute_result",
          "data": {
            "text/plain": [
              "True"
            ]
          },
          "metadata": {},
          "execution_count": 15
        }
      ],
      "source": [
        "import nltk\n",
        "from nltk.corpus import wordnet\n",
        "from nltk.stem.snowball import GermanStemmer\n",
        "nltk.download('wordnet')"
      ]
    },
    {
      "cell_type": "markdown",
      "source": [
        "**Program to get Antonyms from WordNet**"
      ],
      "metadata": {
        "id": "yhlzrTa53l-q"
      }
    },
    {
      "cell_type": "code",
      "source": [
        "def getSynonymsAntonyms(word):\n",
        "    synonyms = []\n",
        "    antonyms = []\n",
        "\n",
        "    synsets = wordnet.synsets(word)\n",
        "    # Iterating over the synsets\n",
        "    for synset in synsets:\n",
        "        for lemma in synset.lemmas():\n",
        "            synonyms.append(lemma.name())\n",
        "            # checking if the lemma has antonyms\n",
        "            if lemma.antonyms():\n",
        "                antonyms.append(lemma.antonyms()[0].name())\n",
        "    return synonyms, antonyms\n",
        "\n",
        "print(\"Synonyms and Antonyms of the given words\")\n",
        "print(\"----------------------------------------\")\n",
        "\n",
        "words = [\"happy\",\"good\", \"selfish\", \"cloudy\", \"true\"]\n",
        "for word in words:\n",
        "    synonyms, antonyms = getSynonymsAntonyms(word)\n",
        "    print(\"Synonyms for\", word, \":\", synonyms)\n",
        "    print(\"Antonyms for\", word, \":\", antonyms)"
      ],
      "metadata": {
        "colab": {
          "base_uri": "https://localhost:8080/"
        },
        "id": "EOtZaI5z4mZp",
        "outputId": "1fa5a0c5-aab1-463e-d475-bb0b7d8450bd"
      },
      "execution_count": 43,
      "outputs": [
        {
          "output_type": "stream",
          "name": "stdout",
          "text": [
            "Synonyms and Antonyms of the given words\n",
            "----------------------------------------\n",
            "Synonyms for happy : ['happy', 'felicitous', 'happy', 'glad', 'happy', 'happy', 'well-chosen']\n",
            "Antonyms for happy : ['unhappy']\n",
            "Synonyms for good : ['good', 'good', 'goodness', 'good', 'goodness', 'commodity', 'trade_good', 'good', 'good', 'full', 'good', 'good', 'estimable', 'good', 'honorable', 'respectable', 'beneficial', 'good', 'good', 'good', 'just', 'upright', 'adept', 'expert', 'good', 'practiced', 'proficient', 'skillful', 'skilful', 'good', 'dear', 'good', 'near', 'dependable', 'good', 'safe', 'secure', 'good', 'right', 'ripe', 'good', 'well', 'effective', 'good', 'in_effect', 'in_force', 'good', 'good', 'serious', 'good', 'sound', 'good', 'salutary', 'good', 'honest', 'good', 'undecomposed', 'unspoiled', 'unspoilt', 'good', 'well', 'good', 'thoroughly', 'soundly', 'good']\n",
            "Antonyms for good : ['evil', 'evilness', 'bad', 'badness', 'bad', 'evil', 'ill']\n",
            "Synonyms for selfish : ['selfish']\n",
            "Antonyms for selfish : ['unselfish']\n",
            "Synonyms for cloudy : ['cloudy', 'nebulose', 'nebulous', 'cloudy', 'cloudy', 'muddy', 'mirky', 'murky', 'turbid']\n",
            "Antonyms for cloudy : ['clear']\n",
            "Synonyms for true : ['true', 'true', 'true_up', 'true', 'true', 'dead_on_target', 'true', 'truthful', 'true', 'true', 'dependable', 'honest', 'reliable', 'true', 'genuine', 'true', 'unfeigned', 'true', 'true', 'true', 'lawful', 'rightful', 'on-key', 'true', 'true', 'straight', 'true', 'admittedly', 'avowedly', 'confessedly']\n",
            "Antonyms for true : ['false', 'untruthful']\n"
          ]
        }
      ]
    },
    {
      "cell_type": "markdown",
      "source": [
        "**Inference:** Thus the program to get the antonyms from WordNet has been done successfully."
      ],
      "metadata": {
        "id": "9wDQhg0E6d92"
      }
    },
    {
      "cell_type": "markdown",
      "source": [
        "**Program for stemming Non-English words**"
      ],
      "metadata": {
        "id": "Q45f088I6riU"
      }
    },
    {
      "cell_type": "code",
      "source": [
        "germanSt = GermanStemmer()"
      ],
      "metadata": {
        "id": "ep7VUFUR49cY"
      },
      "execution_count": 16,
      "outputs": []
    },
    {
      "cell_type": "code",
      "source": [
        "token = [\"Danke\",\"geschrieben\",\"Kuchen\",\"katze\"]"
      ],
      "metadata": {
        "id": "2graKQZt7NuI"
      },
      "execution_count": 48,
      "outputs": []
    },
    {
      "cell_type": "code",
      "source": [
        "stemWords = [germanSt.stem(words) for words in token]\n",
        "print(stemWords)"
      ],
      "metadata": {
        "colab": {
          "base_uri": "https://localhost:8080/"
        },
        "id": "aYIlYUr67Q5b",
        "outputId": "92797d58-b39a-449b-ebfb-3ee44dfec6d2"
      },
      "execution_count": 49,
      "outputs": [
        {
          "output_type": "stream",
          "name": "stdout",
          "text": [
            "['dank', 'geschrieb', 'kuch', 'katz']\n"
          ]
        }
      ]
    },
    {
      "cell_type": "markdown",
      "source": [
        "**Inference:** The german words are tokenized. Meanings -> (danke - Thankyou, geschrieben - written, kuchen - Cake, katze - Cat)."
      ],
      "metadata": {
        "id": "hiy9va_m7yPT"
      }
    },
    {
      "cell_type": "markdown",
      "source": [
        "**Program for lemmatizing words using WordNet**"
      ],
      "metadata": {
        "id": "kuU7QaqB8RRy"
      }
    },
    {
      "cell_type": "code",
      "source": [],
      "metadata": {
        "id": "1gRjIbkQD0nc"
      },
      "execution_count": null,
      "outputs": []
    },
    {
      "cell_type": "markdown",
      "source": [
        "**5) Program for PoS Tagging**"
      ],
      "metadata": {
        "id": "EnVhCAuy_NXk"
      }
    },
    {
      "cell_type": "code",
      "source": [],
      "metadata": {
        "id": "D_IpB_Xs8YqB"
      },
      "execution_count": null,
      "outputs": []
    },
    {
      "cell_type": "markdown",
      "source": [],
      "metadata": {
        "id": "70K_FZ9E8YeV"
      }
    }
  ]
}