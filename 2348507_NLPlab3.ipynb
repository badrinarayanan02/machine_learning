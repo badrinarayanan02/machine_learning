{
  "nbformat": 4,
  "nbformat_minor": 0,
  "metadata": {
    "colab": {
      "provenance": [],
      "authorship_tag": "ABX9TyPHBg9Y+oD/BAOCSO7V4FXk",
      "include_colab_link": true
    },
    "kernelspec": {
      "name": "python3",
      "display_name": "Python 3"
    },
    "language_info": {
      "name": "python"
    }
  },
  "cells": [
    {
      "cell_type": "markdown",
      "metadata": {
        "id": "view-in-github",
        "colab_type": "text"
      },
      "source": [
        "<a href=\"https://colab.research.google.com/github/badrinarayanan02/machine_learning/blob/main/2348507_NLPlab3.ipynb\" target=\"_parent\"><img src=\"https://colab.research.google.com/assets/colab-badge.svg\" alt=\"Open In Colab\"/></a>"
      ]
    },
    {
      "cell_type": "markdown",
      "source": [
        "# **Performing Tokenizations for Non English Languages**"
      ],
      "metadata": {
        "id": "d5b4BMvxYYag"
      }
    },
    {
      "cell_type": "markdown",
      "source": [
        "Program to tokenize any of the two Non-English Languages(One Indian\n",
        "Language and One International Languge)."
      ],
      "metadata": {
        "id": "Zlc4rNW2WXLk"
      }
    },
    {
      "cell_type": "code",
      "execution_count": 1,
      "metadata": {
        "id": "EuomGxqaMNwu"
      },
      "outputs": [],
      "source": [
        "import nltk\n",
        "from nltk.tokenize import word_tokenize"
      ]
    },
    {
      "cell_type": "code",
      "source": [
        "nltk.download('punkt')"
      ],
      "metadata": {
        "colab": {
          "base_uri": "https://localhost:8080/"
        },
        "id": "GnmDnLAhVGas",
        "outputId": "6bd64e74-1f22-4083-e508-7bbeb30d7f73"
      },
      "execution_count": 2,
      "outputs": [
        {
          "output_type": "stream",
          "name": "stderr",
          "text": [
            "[nltk_data] Downloading package punkt to /root/nltk_data...\n",
            "[nltk_data]   Unzipping tokenizers/punkt.zip.\n"
          ]
        },
        {
          "output_type": "execute_result",
          "data": {
            "text/plain": [
              "True"
            ]
          },
          "metadata": {},
          "execution_count": 2
        }
      ]
    },
    {
      "cell_type": "code",
      "source": [
        "hindiSentence = \"किसी भी साँसारिक समसा के सामने घुटने टेकना नहींाहिए। हमेशा आदर्शों और स्चाई की राह पर चलना चाहिए। ीवन में खुशियों का पूरा अधिकार हमेंमेशा मनाना चाहिए।\"\n",
        "hindi_tokens = word_tokenize(hindiSentence)\n",
        "hindi_tokens"
      ],
      "metadata": {
        "colab": {
          "base_uri": "https://localhost:8080/"
        },
        "id": "syK4B00wYJTn",
        "outputId": "1e7fc4f8-228c-4cfa-93db-78ec4568c99d"
      },
      "execution_count": 3,
      "outputs": [
        {
          "output_type": "execute_result",
          "data": {
            "text/plain": [
              "['किसी',\n",
              " 'भी',\n",
              " 'साँसारिक',\n",
              " 'समसा',\n",
              " 'के',\n",
              " 'सामने',\n",
              " 'घुटने',\n",
              " 'टेकना',\n",
              " 'नहींाहिए।',\n",
              " 'हमेशा',\n",
              " 'आदर्शों',\n",
              " 'और',\n",
              " 'स्चाई',\n",
              " 'की',\n",
              " 'राह',\n",
              " 'पर',\n",
              " 'चलना',\n",
              " 'चाहिए।',\n",
              " 'ीवन',\n",
              " 'में',\n",
              " 'खुशियों',\n",
              " 'का',\n",
              " 'पूरा',\n",
              " 'अधिकार',\n",
              " 'हमेंमेशा',\n",
              " 'मनाना',\n",
              " 'चाहिए।']"
            ]
          },
          "metadata": {},
          "execution_count": 3
        }
      ]
    },
    {
      "cell_type": "markdown",
      "source": [
        "**Inference:** Interpretation -\n",
        "One should not succumb to any worldly problem. One should always follow the path of ideals and truth. We should always celebrate our full right to happiness in life."
      ],
      "metadata": {
        "id": "l0fcDhlF7Fzj"
      }
    },
    {
      "cell_type": "code",
      "source": [
        "germanSentence = \"Give any german sentence of 3 lines Es ist wichtig, sich selbst treu zu bleiben und auf sein inneres Gleichgewicht zu achten. Jeder Tag bietet neue Möglichkeiten zur Entfaltung und persönlichen Weiterentwicklung. Die Schönheit des Lebens liegt oft in den kleinen und unerwarteten Momenten.\"\n",
        "german_tokens = word_tokenize(germanSentence)\n",
        "german_tokens"
      ],
      "metadata": {
        "colab": {
          "base_uri": "https://localhost:8080/"
        },
        "id": "d9z-aczSVLGi",
        "outputId": "1ce84aa4-9029-4a88-de09-3ce6df6eea94"
      },
      "execution_count": 4,
      "outputs": [
        {
          "output_type": "execute_result",
          "data": {
            "text/plain": [
              "['Give',\n",
              " 'any',\n",
              " 'german',\n",
              " 'sentence',\n",
              " 'of',\n",
              " '3',\n",
              " 'lines',\n",
              " 'Es',\n",
              " 'ist',\n",
              " 'wichtig',\n",
              " ',',\n",
              " 'sich',\n",
              " 'selbst',\n",
              " 'treu',\n",
              " 'zu',\n",
              " 'bleiben',\n",
              " 'und',\n",
              " 'auf',\n",
              " 'sein',\n",
              " 'inneres',\n",
              " 'Gleichgewicht',\n",
              " 'zu',\n",
              " 'achten',\n",
              " '.',\n",
              " 'Jeder',\n",
              " 'Tag',\n",
              " 'bietet',\n",
              " 'neue',\n",
              " 'Möglichkeiten',\n",
              " 'zur',\n",
              " 'Entfaltung',\n",
              " 'und',\n",
              " 'persönlichen',\n",
              " 'Weiterentwicklung',\n",
              " '.',\n",
              " 'Die',\n",
              " 'Schönheit',\n",
              " 'des',\n",
              " 'Lebens',\n",
              " 'liegt',\n",
              " 'oft',\n",
              " 'in',\n",
              " 'den',\n",
              " 'kleinen',\n",
              " 'und',\n",
              " 'unerwarteten',\n",
              " 'Momenten',\n",
              " '.']"
            ]
          },
          "metadata": {},
          "execution_count": 4
        }
      ]
    },
    {
      "cell_type": "markdown",
      "source": [
        "**Inference:** Interpretation - It is important to stay true to yourself and pay attention to your inner balance. Every day offers new opportunities for development and personal development. The beauty of life often lies in the small and unexpected moments."
      ],
      "metadata": {
        "id": "61C6advR7gRT"
      }
    },
    {
      "cell_type": "markdown",
      "source": [
        "# **Conclusion**"
      ],
      "metadata": {
        "id": "hFj--nYyZrQC"
      }
    },
    {
      "cell_type": "markdown",
      "source": [
        "Thus the program to tokenize any of the two Non English Languages are implemented successfully."
      ],
      "metadata": {
        "id": "SNqQyH35Zs8t"
      }
    }
  ]
}