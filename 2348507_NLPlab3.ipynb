{
  "nbformat": 4,
  "nbformat_minor": 0,
  "metadata": {
    "colab": {
      "provenance": [],
      "authorship_tag": "ABX9TyO5YBE0C1g4z7ritj0HZNya",
      "include_colab_link": true
    },
    "kernelspec": {
      "name": "python3",
      "display_name": "Python 3"
    },
    "language_info": {
      "name": "python"
    }
  },
  "cells": [
    {
      "cell_type": "markdown",
      "metadata": {
        "id": "view-in-github",
        "colab_type": "text"
      },
      "source": [
        "<a href=\"https://colab.research.google.com/github/badrinarayanan02/machine_learning/blob/main/2348507_NLPlab3.ipynb\" target=\"_parent\"><img src=\"https://colab.research.google.com/assets/colab-badge.svg\" alt=\"Open In Colab\"/></a>"
      ]
    },
    {
      "cell_type": "markdown",
      "source": [
        "# **Performing Tokenizations for Non English Languages**"
      ],
      "metadata": {
        "id": "d5b4BMvxYYag"
      }
    },
    {
      "cell_type": "markdown",
      "source": [
        "Write a program to tokenize any of the two Non-English Languages(one Indian\n",
        "Language and One International Languge)."
      ],
      "metadata": {
        "id": "Zlc4rNW2WXLk"
      }
    },
    {
      "cell_type": "code",
      "execution_count": null,
      "metadata": {
        "id": "EuomGxqaMNwu"
      },
      "outputs": [],
      "source": [
        "import nltk\n",
        "from nltk.tokenize import word_tokenize"
      ]
    },
    {
      "cell_type": "code",
      "source": [
        "nltk.download('punkt')"
      ],
      "metadata": {
        "colab": {
          "base_uri": "https://localhost:8080/"
        },
        "id": "syK4B00wYJTn",
        "outputId": "1bfd5c12-ee2c-4627-caf4-fdde6d606879"
      },
      "execution_count": null,
      "outputs": [
        {
          "output_type": "stream",
          "name": "stderr",
          "text": [
            "[nltk_data] Downloading package punkt to /root/nltk_data...\n",
            "[nltk_data]   Unzipping tokenizers/punkt.zip.\n"
          ]
        },
        {
          "output_type": "execute_result",
          "data": {
            "text/plain": [
              "True"
            ]
          },
          "metadata": {},
          "execution_count": 2
        }
      ]
    },
    {
      "cell_type": "code",
      "source": [
        "hindi_text = \"एनएलपी बहुत दिलचस्प है\"\n",
        "hindi_tokens = word_tokenize(hindi_text)\n",
        "hindi_tokens"
      ],
      "metadata": {
        "colab": {
          "base_uri": "https://localhost:8080/"
        },
        "id": "Htlg1nMkYhMR",
        "outputId": "d39169a6-2699-491c-8042-20c499838a7f"
      },
      "execution_count": null,
      "outputs": [
        {
          "output_type": "execute_result",
          "data": {
            "text/plain": [
              "['एनएलपी', 'बहुत', 'दिलचस्प', 'है']"
            ]
          },
          "metadata": {},
          "execution_count": 4
        }
      ]
    },
    {
      "cell_type": "code",
      "source": [
        "german_text = \"Marry hatte eine kleine Lampe\"\n",
        "german_tokens = word_tokenize(german_text)\n",
        "german_tokens"
      ],
      "metadata": {
        "colab": {
          "base_uri": "https://localhost:8080/"
        },
        "id": "AYCtrEhIZaX-",
        "outputId": "706f902f-a14e-48a2-d324-24067cd234c7"
      },
      "execution_count": null,
      "outputs": [
        {
          "output_type": "execute_result",
          "data": {
            "text/plain": [
              "['Marry', 'hatte', 'eine', 'kleine', 'Lampe']"
            ]
          },
          "metadata": {},
          "execution_count": 5
        }
      ]
    },
    {
      "cell_type": "markdown",
      "source": [
        "# **Conclusion**"
      ],
      "metadata": {
        "id": "hFj--nYyZrQC"
      }
    },
    {
      "cell_type": "markdown",
      "source": [
        "Thus the program to tokenize any of the two Non English Languages are implemented successfully."
      ],
      "metadata": {
        "id": "SNqQyH35Zs8t"
      }
    }
  ]
}