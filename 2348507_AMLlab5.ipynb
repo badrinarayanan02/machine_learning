{
  "nbformat": 4,
  "nbformat_minor": 0,
  "metadata": {
    "colab": {
      "provenance": [],
      "authorship_tag": "ABX9TyNviEuFU5RG4K0ZVXGKfgjZ",
      "include_colab_link": true
    },
    "kernelspec": {
      "name": "python3",
      "display_name": "Python 3"
    },
    "language_info": {
      "name": "python"
    }
  },
  "cells": [
    {
      "cell_type": "markdown",
      "metadata": {
        "id": "view-in-github",
        "colab_type": "text"
      },
      "source": [
        "<a href=\"https://colab.research.google.com/github/badrinarayanan02/machine_learning/blob/main/2348507_AMLlab5.ipynb\" target=\"_parent\"><img src=\"https://colab.research.google.com/assets/colab-badge.svg\" alt=\"Open In Colab\"/></a>"
      ]
    },
    {
      "cell_type": "markdown",
      "source": [
        "Lasso and Ridge Regression"
      ],
      "metadata": {
        "id": "UUhpokmJGL9E"
      }
    },
    {
      "cell_type": "markdown",
      "source": [
        "Given the laboratory data. All attributes except Category and Sex are numerical.\n"
      ],
      "metadata": {
        "id": "FLDz7_FlGr4I"
      }
    },
    {
      "cell_type": "code",
      "execution_count": 48,
      "metadata": {
        "id": "Ybn_16Ov-lSE"
      },
      "outputs": [],
      "source": [
        "import pandas as pd\n",
        "import matplotlib.pyplot as plt\n",
        "from sklearn.linear_model import LinearRegression,Ridge,Lasso\n",
        "from sklearn.preprocessing import PolynomialFeatures\n",
        "from sklearn.model_selection import train_test_split,cross_val_score\n",
        "from sklearn.impute import SimpleImputer\n",
        "import numpy as np\n",
        "from statsmodels.stats.outliers_influence import variance_inflation_factor\n",
        "from sklearn.metrics import mean_squared_error, r2_score, make_scorer"
      ]
    },
    {
      "cell_type": "markdown",
      "source": [
        "Data Preprocessing"
      ],
      "metadata": {
        "id": "BVy7ufKTGwxJ"
      }
    },
    {
      "cell_type": "code",
      "source": [
        "data = pd.read_csv('/content/program_5_dataset - program_5_dataset.csv')\n",
        "data"
      ],
      "metadata": {
        "colab": {
          "base_uri": "https://localhost:8080/",
          "height": 423
        },
        "id": "KW8SLiCx-6E_",
        "outputId": "dc29eee9-961d-4c49-9d5f-1cfc57931e98"
      },
      "execution_count": null,
      "outputs": [
        {
          "output_type": "execute_result",
          "data": {
            "text/plain": [
              "     Unnamed: 0       Category  Age Sex   ALB    ALP    ALT    AST   BIL  \\\n",
              "0             1  0=Blood Donor   32   m  38.5   52.5    7.7   22.1   7.5   \n",
              "1             2  0=Blood Donor   32   m  38.5   70.3   18.0   24.7   3.9   \n",
              "2             3  0=Blood Donor   32   m  46.9   74.7   36.2   52.6   6.1   \n",
              "3             4  0=Blood Donor   32   m  43.2   52.0   30.6   22.6  18.9   \n",
              "4             5  0=Blood Donor   32   m  39.2   74.1   32.6   24.8   9.6   \n",
              "..          ...            ...  ...  ..   ...    ...    ...    ...   ...   \n",
              "610         611    3=Cirrhosis   62   f  32.0  416.6    5.9  110.3  50.0   \n",
              "611         612    3=Cirrhosis   64   f  24.0  102.8    2.9   44.4  20.0   \n",
              "612         613    3=Cirrhosis   64   f  29.0   87.3    3.5   99.0  48.0   \n",
              "613         614    3=Cirrhosis   46   f  33.0    NaN   39.0   62.0  20.0   \n",
              "614         615    3=Cirrhosis   59   f  36.0    NaN  100.0   80.0  12.0   \n",
              "\n",
              "       CHE  CHOL   CREA    GGT  PROT  \n",
              "0     6.93  3.23  106.0   12.1  69.0  \n",
              "1    11.17  4.80   74.0   15.6  76.5  \n",
              "2     8.84  5.20   86.0   33.2  79.3  \n",
              "3     7.33  4.74   80.0   33.8  75.7  \n",
              "4     9.15  4.32   76.0   29.9  68.7  \n",
              "..     ...   ...    ...    ...   ...  \n",
              "610   5.57  6.30   55.7  650.9  68.5  \n",
              "611   1.54  3.02   63.0   35.9  71.3  \n",
              "612   1.66  3.63   66.7   64.2  82.0  \n",
              "613   3.56  4.20   52.0   50.0  71.0  \n",
              "614   9.07  5.30   67.0   34.0  68.0  \n",
              "\n",
              "[615 rows x 14 columns]"
            ],
            "text/html": [
              "\n",
              "  <div id=\"df-916c3919-8584-4136-840f-c3c505521846\" class=\"colab-df-container\">\n",
              "    <div>\n",
              "<style scoped>\n",
              "    .dataframe tbody tr th:only-of-type {\n",
              "        vertical-align: middle;\n",
              "    }\n",
              "\n",
              "    .dataframe tbody tr th {\n",
              "        vertical-align: top;\n",
              "    }\n",
              "\n",
              "    .dataframe thead th {\n",
              "        text-align: right;\n",
              "    }\n",
              "</style>\n",
              "<table border=\"1\" class=\"dataframe\">\n",
              "  <thead>\n",
              "    <tr style=\"text-align: right;\">\n",
              "      <th></th>\n",
              "      <th>Unnamed: 0</th>\n",
              "      <th>Category</th>\n",
              "      <th>Age</th>\n",
              "      <th>Sex</th>\n",
              "      <th>ALB</th>\n",
              "      <th>ALP</th>\n",
              "      <th>ALT</th>\n",
              "      <th>AST</th>\n",
              "      <th>BIL</th>\n",
              "      <th>CHE</th>\n",
              "      <th>CHOL</th>\n",
              "      <th>CREA</th>\n",
              "      <th>GGT</th>\n",
              "      <th>PROT</th>\n",
              "    </tr>\n",
              "  </thead>\n",
              "  <tbody>\n",
              "    <tr>\n",
              "      <th>0</th>\n",
              "      <td>1</td>\n",
              "      <td>0=Blood Donor</td>\n",
              "      <td>32</td>\n",
              "      <td>m</td>\n",
              "      <td>38.5</td>\n",
              "      <td>52.5</td>\n",
              "      <td>7.7</td>\n",
              "      <td>22.1</td>\n",
              "      <td>7.5</td>\n",
              "      <td>6.93</td>\n",
              "      <td>3.23</td>\n",
              "      <td>106.0</td>\n",
              "      <td>12.1</td>\n",
              "      <td>69.0</td>\n",
              "    </tr>\n",
              "    <tr>\n",
              "      <th>1</th>\n",
              "      <td>2</td>\n",
              "      <td>0=Blood Donor</td>\n",
              "      <td>32</td>\n",
              "      <td>m</td>\n",
              "      <td>38.5</td>\n",
              "      <td>70.3</td>\n",
              "      <td>18.0</td>\n",
              "      <td>24.7</td>\n",
              "      <td>3.9</td>\n",
              "      <td>11.17</td>\n",
              "      <td>4.80</td>\n",
              "      <td>74.0</td>\n",
              "      <td>15.6</td>\n",
              "      <td>76.5</td>\n",
              "    </tr>\n",
              "    <tr>\n",
              "      <th>2</th>\n",
              "      <td>3</td>\n",
              "      <td>0=Blood Donor</td>\n",
              "      <td>32</td>\n",
              "      <td>m</td>\n",
              "      <td>46.9</td>\n",
              "      <td>74.7</td>\n",
              "      <td>36.2</td>\n",
              "      <td>52.6</td>\n",
              "      <td>6.1</td>\n",
              "      <td>8.84</td>\n",
              "      <td>5.20</td>\n",
              "      <td>86.0</td>\n",
              "      <td>33.2</td>\n",
              "      <td>79.3</td>\n",
              "    </tr>\n",
              "    <tr>\n",
              "      <th>3</th>\n",
              "      <td>4</td>\n",
              "      <td>0=Blood Donor</td>\n",
              "      <td>32</td>\n",
              "      <td>m</td>\n",
              "      <td>43.2</td>\n",
              "      <td>52.0</td>\n",
              "      <td>30.6</td>\n",
              "      <td>22.6</td>\n",
              "      <td>18.9</td>\n",
              "      <td>7.33</td>\n",
              "      <td>4.74</td>\n",
              "      <td>80.0</td>\n",
              "      <td>33.8</td>\n",
              "      <td>75.7</td>\n",
              "    </tr>\n",
              "    <tr>\n",
              "      <th>4</th>\n",
              "      <td>5</td>\n",
              "      <td>0=Blood Donor</td>\n",
              "      <td>32</td>\n",
              "      <td>m</td>\n",
              "      <td>39.2</td>\n",
              "      <td>74.1</td>\n",
              "      <td>32.6</td>\n",
              "      <td>24.8</td>\n",
              "      <td>9.6</td>\n",
              "      <td>9.15</td>\n",
              "      <td>4.32</td>\n",
              "      <td>76.0</td>\n",
              "      <td>29.9</td>\n",
              "      <td>68.7</td>\n",
              "    </tr>\n",
              "    <tr>\n",
              "      <th>...</th>\n",
              "      <td>...</td>\n",
              "      <td>...</td>\n",
              "      <td>...</td>\n",
              "      <td>...</td>\n",
              "      <td>...</td>\n",
              "      <td>...</td>\n",
              "      <td>...</td>\n",
              "      <td>...</td>\n",
              "      <td>...</td>\n",
              "      <td>...</td>\n",
              "      <td>...</td>\n",
              "      <td>...</td>\n",
              "      <td>...</td>\n",
              "      <td>...</td>\n",
              "    </tr>\n",
              "    <tr>\n",
              "      <th>610</th>\n",
              "      <td>611</td>\n",
              "      <td>3=Cirrhosis</td>\n",
              "      <td>62</td>\n",
              "      <td>f</td>\n",
              "      <td>32.0</td>\n",
              "      <td>416.6</td>\n",
              "      <td>5.9</td>\n",
              "      <td>110.3</td>\n",
              "      <td>50.0</td>\n",
              "      <td>5.57</td>\n",
              "      <td>6.30</td>\n",
              "      <td>55.7</td>\n",
              "      <td>650.9</td>\n",
              "      <td>68.5</td>\n",
              "    </tr>\n",
              "    <tr>\n",
              "      <th>611</th>\n",
              "      <td>612</td>\n",
              "      <td>3=Cirrhosis</td>\n",
              "      <td>64</td>\n",
              "      <td>f</td>\n",
              "      <td>24.0</td>\n",
              "      <td>102.8</td>\n",
              "      <td>2.9</td>\n",
              "      <td>44.4</td>\n",
              "      <td>20.0</td>\n",
              "      <td>1.54</td>\n",
              "      <td>3.02</td>\n",
              "      <td>63.0</td>\n",
              "      <td>35.9</td>\n",
              "      <td>71.3</td>\n",
              "    </tr>\n",
              "    <tr>\n",
              "      <th>612</th>\n",
              "      <td>613</td>\n",
              "      <td>3=Cirrhosis</td>\n",
              "      <td>64</td>\n",
              "      <td>f</td>\n",
              "      <td>29.0</td>\n",
              "      <td>87.3</td>\n",
              "      <td>3.5</td>\n",
              "      <td>99.0</td>\n",
              "      <td>48.0</td>\n",
              "      <td>1.66</td>\n",
              "      <td>3.63</td>\n",
              "      <td>66.7</td>\n",
              "      <td>64.2</td>\n",
              "      <td>82.0</td>\n",
              "    </tr>\n",
              "    <tr>\n",
              "      <th>613</th>\n",
              "      <td>614</td>\n",
              "      <td>3=Cirrhosis</td>\n",
              "      <td>46</td>\n",
              "      <td>f</td>\n",
              "      <td>33.0</td>\n",
              "      <td>NaN</td>\n",
              "      <td>39.0</td>\n",
              "      <td>62.0</td>\n",
              "      <td>20.0</td>\n",
              "      <td>3.56</td>\n",
              "      <td>4.20</td>\n",
              "      <td>52.0</td>\n",
              "      <td>50.0</td>\n",
              "      <td>71.0</td>\n",
              "    </tr>\n",
              "    <tr>\n",
              "      <th>614</th>\n",
              "      <td>615</td>\n",
              "      <td>3=Cirrhosis</td>\n",
              "      <td>59</td>\n",
              "      <td>f</td>\n",
              "      <td>36.0</td>\n",
              "      <td>NaN</td>\n",
              "      <td>100.0</td>\n",
              "      <td>80.0</td>\n",
              "      <td>12.0</td>\n",
              "      <td>9.07</td>\n",
              "      <td>5.30</td>\n",
              "      <td>67.0</td>\n",
              "      <td>34.0</td>\n",
              "      <td>68.0</td>\n",
              "    </tr>\n",
              "  </tbody>\n",
              "</table>\n",
              "<p>615 rows × 14 columns</p>\n",
              "</div>\n",
              "    <div class=\"colab-df-buttons\">\n",
              "\n",
              "  <div class=\"colab-df-container\">\n",
              "    <button class=\"colab-df-convert\" onclick=\"convertToInteractive('df-916c3919-8584-4136-840f-c3c505521846')\"\n",
              "            title=\"Convert this dataframe to an interactive table.\"\n",
              "            style=\"display:none;\">\n",
              "\n",
              "  <svg xmlns=\"http://www.w3.org/2000/svg\" height=\"24px\" viewBox=\"0 -960 960 960\">\n",
              "    <path d=\"M120-120v-720h720v720H120Zm60-500h600v-160H180v160Zm220 220h160v-160H400v160Zm0 220h160v-160H400v160ZM180-400h160v-160H180v160Zm440 0h160v-160H620v160ZM180-180h160v-160H180v160Zm440 0h160v-160H620v160Z\"/>\n",
              "  </svg>\n",
              "    </button>\n",
              "\n",
              "  <style>\n",
              "    .colab-df-container {\n",
              "      display:flex;\n",
              "      gap: 12px;\n",
              "    }\n",
              "\n",
              "    .colab-df-convert {\n",
              "      background-color: #E8F0FE;\n",
              "      border: none;\n",
              "      border-radius: 50%;\n",
              "      cursor: pointer;\n",
              "      display: none;\n",
              "      fill: #1967D2;\n",
              "      height: 32px;\n",
              "      padding: 0 0 0 0;\n",
              "      width: 32px;\n",
              "    }\n",
              "\n",
              "    .colab-df-convert:hover {\n",
              "      background-color: #E2EBFA;\n",
              "      box-shadow: 0px 1px 2px rgba(60, 64, 67, 0.3), 0px 1px 3px 1px rgba(60, 64, 67, 0.15);\n",
              "      fill: #174EA6;\n",
              "    }\n",
              "\n",
              "    .colab-df-buttons div {\n",
              "      margin-bottom: 4px;\n",
              "    }\n",
              "\n",
              "    [theme=dark] .colab-df-convert {\n",
              "      background-color: #3B4455;\n",
              "      fill: #D2E3FC;\n",
              "    }\n",
              "\n",
              "    [theme=dark] .colab-df-convert:hover {\n",
              "      background-color: #434B5C;\n",
              "      box-shadow: 0px 1px 3px 1px rgba(0, 0, 0, 0.15);\n",
              "      filter: drop-shadow(0px 1px 2px rgba(0, 0, 0, 0.3));\n",
              "      fill: #FFFFFF;\n",
              "    }\n",
              "  </style>\n",
              "\n",
              "    <script>\n",
              "      const buttonEl =\n",
              "        document.querySelector('#df-916c3919-8584-4136-840f-c3c505521846 button.colab-df-convert');\n",
              "      buttonEl.style.display =\n",
              "        google.colab.kernel.accessAllowed ? 'block' : 'none';\n",
              "\n",
              "      async function convertToInteractive(key) {\n",
              "        const element = document.querySelector('#df-916c3919-8584-4136-840f-c3c505521846');\n",
              "        const dataTable =\n",
              "          await google.colab.kernel.invokeFunction('convertToInteractive',\n",
              "                                                    [key], {});\n",
              "        if (!dataTable) return;\n",
              "\n",
              "        const docLinkHtml = 'Like what you see? Visit the ' +\n",
              "          '<a target=\"_blank\" href=https://colab.research.google.com/notebooks/data_table.ipynb>data table notebook</a>'\n",
              "          + ' to learn more about interactive tables.';\n",
              "        element.innerHTML = '';\n",
              "        dataTable['output_type'] = 'display_data';\n",
              "        await google.colab.output.renderOutput(dataTable, element);\n",
              "        const docLink = document.createElement('div');\n",
              "        docLink.innerHTML = docLinkHtml;\n",
              "        element.appendChild(docLink);\n",
              "      }\n",
              "    </script>\n",
              "  </div>\n",
              "\n",
              "\n",
              "<div id=\"df-11be0504-29cd-431d-bd5d-49e0ae1d8a7f\">\n",
              "  <button class=\"colab-df-quickchart\" onclick=\"quickchart('df-11be0504-29cd-431d-bd5d-49e0ae1d8a7f')\"\n",
              "            title=\"Suggest charts\"\n",
              "            style=\"display:none;\">\n",
              "\n",
              "<svg xmlns=\"http://www.w3.org/2000/svg\" height=\"24px\"viewBox=\"0 0 24 24\"\n",
              "     width=\"24px\">\n",
              "    <g>\n",
              "        <path d=\"M19 3H5c-1.1 0-2 .9-2 2v14c0 1.1.9 2 2 2h14c1.1 0 2-.9 2-2V5c0-1.1-.9-2-2-2zM9 17H7v-7h2v7zm4 0h-2V7h2v10zm4 0h-2v-4h2v4z\"/>\n",
              "    </g>\n",
              "</svg>\n",
              "  </button>\n",
              "\n",
              "<style>\n",
              "  .colab-df-quickchart {\n",
              "      --bg-color: #E8F0FE;\n",
              "      --fill-color: #1967D2;\n",
              "      --hover-bg-color: #E2EBFA;\n",
              "      --hover-fill-color: #174EA6;\n",
              "      --disabled-fill-color: #AAA;\n",
              "      --disabled-bg-color: #DDD;\n",
              "  }\n",
              "\n",
              "  [theme=dark] .colab-df-quickchart {\n",
              "      --bg-color: #3B4455;\n",
              "      --fill-color: #D2E3FC;\n",
              "      --hover-bg-color: #434B5C;\n",
              "      --hover-fill-color: #FFFFFF;\n",
              "      --disabled-bg-color: #3B4455;\n",
              "      --disabled-fill-color: #666;\n",
              "  }\n",
              "\n",
              "  .colab-df-quickchart {\n",
              "    background-color: var(--bg-color);\n",
              "    border: none;\n",
              "    border-radius: 50%;\n",
              "    cursor: pointer;\n",
              "    display: none;\n",
              "    fill: var(--fill-color);\n",
              "    height: 32px;\n",
              "    padding: 0;\n",
              "    width: 32px;\n",
              "  }\n",
              "\n",
              "  .colab-df-quickchart:hover {\n",
              "    background-color: var(--hover-bg-color);\n",
              "    box-shadow: 0 1px 2px rgba(60, 64, 67, 0.3), 0 1px 3px 1px rgba(60, 64, 67, 0.15);\n",
              "    fill: var(--button-hover-fill-color);\n",
              "  }\n",
              "\n",
              "  .colab-df-quickchart-complete:disabled,\n",
              "  .colab-df-quickchart-complete:disabled:hover {\n",
              "    background-color: var(--disabled-bg-color);\n",
              "    fill: var(--disabled-fill-color);\n",
              "    box-shadow: none;\n",
              "  }\n",
              "\n",
              "  .colab-df-spinner {\n",
              "    border: 2px solid var(--fill-color);\n",
              "    border-color: transparent;\n",
              "    border-bottom-color: var(--fill-color);\n",
              "    animation:\n",
              "      spin 1s steps(1) infinite;\n",
              "  }\n",
              "\n",
              "  @keyframes spin {\n",
              "    0% {\n",
              "      border-color: transparent;\n",
              "      border-bottom-color: var(--fill-color);\n",
              "      border-left-color: var(--fill-color);\n",
              "    }\n",
              "    20% {\n",
              "      border-color: transparent;\n",
              "      border-left-color: var(--fill-color);\n",
              "      border-top-color: var(--fill-color);\n",
              "    }\n",
              "    30% {\n",
              "      border-color: transparent;\n",
              "      border-left-color: var(--fill-color);\n",
              "      border-top-color: var(--fill-color);\n",
              "      border-right-color: var(--fill-color);\n",
              "    }\n",
              "    40% {\n",
              "      border-color: transparent;\n",
              "      border-right-color: var(--fill-color);\n",
              "      border-top-color: var(--fill-color);\n",
              "    }\n",
              "    60% {\n",
              "      border-color: transparent;\n",
              "      border-right-color: var(--fill-color);\n",
              "    }\n",
              "    80% {\n",
              "      border-color: transparent;\n",
              "      border-right-color: var(--fill-color);\n",
              "      border-bottom-color: var(--fill-color);\n",
              "    }\n",
              "    90% {\n",
              "      border-color: transparent;\n",
              "      border-bottom-color: var(--fill-color);\n",
              "    }\n",
              "  }\n",
              "</style>\n",
              "\n",
              "  <script>\n",
              "    async function quickchart(key) {\n",
              "      const quickchartButtonEl =\n",
              "        document.querySelector('#' + key + ' button');\n",
              "      quickchartButtonEl.disabled = true;  // To prevent multiple clicks.\n",
              "      quickchartButtonEl.classList.add('colab-df-spinner');\n",
              "      try {\n",
              "        const charts = await google.colab.kernel.invokeFunction(\n",
              "            'suggestCharts', [key], {});\n",
              "      } catch (error) {\n",
              "        console.error('Error during call to suggestCharts:', error);\n",
              "      }\n",
              "      quickchartButtonEl.classList.remove('colab-df-spinner');\n",
              "      quickchartButtonEl.classList.add('colab-df-quickchart-complete');\n",
              "    }\n",
              "    (() => {\n",
              "      let quickchartButtonEl =\n",
              "        document.querySelector('#df-11be0504-29cd-431d-bd5d-49e0ae1d8a7f button');\n",
              "      quickchartButtonEl.style.display =\n",
              "        google.colab.kernel.accessAllowed ? 'block' : 'none';\n",
              "    })();\n",
              "  </script>\n",
              "</div>\n",
              "    </div>\n",
              "  </div>\n"
            ]
          },
          "metadata": {},
          "execution_count": 2
        }
      ]
    },
    {
      "cell_type": "code",
      "source": [
        "data.shape"
      ],
      "metadata": {
        "colab": {
          "base_uri": "https://localhost:8080/"
        },
        "id": "dj7tSl4RBfZD",
        "outputId": "7f3ca4b0-0db1-497a-db3e-66148d1ddb0f"
      },
      "execution_count": null,
      "outputs": [
        {
          "output_type": "execute_result",
          "data": {
            "text/plain": [
              "(615, 14)"
            ]
          },
          "metadata": {},
          "execution_count": 3
        }
      ]
    },
    {
      "cell_type": "code",
      "source": [
        "data.describe()"
      ],
      "metadata": {
        "colab": {
          "base_uri": "https://localhost:8080/",
          "height": 337
        },
        "id": "r3I80mR5BiJc",
        "outputId": "3eee25a1-4b77-4d88-cb59-4dc91c189405"
      },
      "execution_count": null,
      "outputs": [
        {
          "output_type": "execute_result",
          "data": {
            "text/plain": [
              "       Unnamed: 0         Age         ALB         ALP         ALT         AST  \\\n",
              "count  615.000000  615.000000  613.000000  595.000000  612.000000  613.000000   \n",
              "mean   308.000000   47.408130   41.622838   68.263529   28.493627   34.731648   \n",
              "std    177.679487   10.055105    5.784979   26.049129   25.498962   33.090023   \n",
              "min      1.000000   19.000000   14.900000   11.300000    0.900000   10.600000   \n",
              "25%    154.500000   39.000000   38.800000   52.500000   16.400000   21.600000   \n",
              "50%    308.000000   47.000000   42.000000   66.200000   23.000000   25.900000   \n",
              "75%    461.500000   54.000000   45.200000   80.100000   33.100000   32.900000   \n",
              "max    615.000000   77.000000   82.200000  416.600000  325.300000  324.000000   \n",
              "\n",
              "              BIL         CHE        CHOL         CREA         GGT        PROT  \n",
              "count  615.000000  615.000000  604.000000   614.000000  615.000000  614.000000  \n",
              "mean    11.396748    8.196634    5.368013    81.271987   39.533171   72.044137  \n",
              "std     19.673150    2.205657    1.133665    49.795186   54.661071    5.402636  \n",
              "min      0.800000    1.420000    1.430000     8.000000    4.500000   44.800000  \n",
              "25%      5.300000    6.935000    4.607500    67.000000   15.700000   69.300000  \n",
              "50%      7.300000    8.260000    5.300000    76.850000   23.300000   72.200000  \n",
              "75%     11.200000    9.590000    6.065000    88.000000   40.200000   75.400000  \n",
              "max    254.000000   16.410000    9.670000  1079.100000  650.900000   90.000000  "
            ],
            "text/html": [
              "\n",
              "  <div id=\"df-ebf85097-5281-430e-bc6e-57968e746a08\" class=\"colab-df-container\">\n",
              "    <div>\n",
              "<style scoped>\n",
              "    .dataframe tbody tr th:only-of-type {\n",
              "        vertical-align: middle;\n",
              "    }\n",
              "\n",
              "    .dataframe tbody tr th {\n",
              "        vertical-align: top;\n",
              "    }\n",
              "\n",
              "    .dataframe thead th {\n",
              "        text-align: right;\n",
              "    }\n",
              "</style>\n",
              "<table border=\"1\" class=\"dataframe\">\n",
              "  <thead>\n",
              "    <tr style=\"text-align: right;\">\n",
              "      <th></th>\n",
              "      <th>Unnamed: 0</th>\n",
              "      <th>Age</th>\n",
              "      <th>ALB</th>\n",
              "      <th>ALP</th>\n",
              "      <th>ALT</th>\n",
              "      <th>AST</th>\n",
              "      <th>BIL</th>\n",
              "      <th>CHE</th>\n",
              "      <th>CHOL</th>\n",
              "      <th>CREA</th>\n",
              "      <th>GGT</th>\n",
              "      <th>PROT</th>\n",
              "    </tr>\n",
              "  </thead>\n",
              "  <tbody>\n",
              "    <tr>\n",
              "      <th>count</th>\n",
              "      <td>615.000000</td>\n",
              "      <td>615.000000</td>\n",
              "      <td>613.000000</td>\n",
              "      <td>595.000000</td>\n",
              "      <td>612.000000</td>\n",
              "      <td>613.000000</td>\n",
              "      <td>615.000000</td>\n",
              "      <td>615.000000</td>\n",
              "      <td>604.000000</td>\n",
              "      <td>614.000000</td>\n",
              "      <td>615.000000</td>\n",
              "      <td>614.000000</td>\n",
              "    </tr>\n",
              "    <tr>\n",
              "      <th>mean</th>\n",
              "      <td>308.000000</td>\n",
              "      <td>47.408130</td>\n",
              "      <td>41.622838</td>\n",
              "      <td>68.263529</td>\n",
              "      <td>28.493627</td>\n",
              "      <td>34.731648</td>\n",
              "      <td>11.396748</td>\n",
              "      <td>8.196634</td>\n",
              "      <td>5.368013</td>\n",
              "      <td>81.271987</td>\n",
              "      <td>39.533171</td>\n",
              "      <td>72.044137</td>\n",
              "    </tr>\n",
              "    <tr>\n",
              "      <th>std</th>\n",
              "      <td>177.679487</td>\n",
              "      <td>10.055105</td>\n",
              "      <td>5.784979</td>\n",
              "      <td>26.049129</td>\n",
              "      <td>25.498962</td>\n",
              "      <td>33.090023</td>\n",
              "      <td>19.673150</td>\n",
              "      <td>2.205657</td>\n",
              "      <td>1.133665</td>\n",
              "      <td>49.795186</td>\n",
              "      <td>54.661071</td>\n",
              "      <td>5.402636</td>\n",
              "    </tr>\n",
              "    <tr>\n",
              "      <th>min</th>\n",
              "      <td>1.000000</td>\n",
              "      <td>19.000000</td>\n",
              "      <td>14.900000</td>\n",
              "      <td>11.300000</td>\n",
              "      <td>0.900000</td>\n",
              "      <td>10.600000</td>\n",
              "      <td>0.800000</td>\n",
              "      <td>1.420000</td>\n",
              "      <td>1.430000</td>\n",
              "      <td>8.000000</td>\n",
              "      <td>4.500000</td>\n",
              "      <td>44.800000</td>\n",
              "    </tr>\n",
              "    <tr>\n",
              "      <th>25%</th>\n",
              "      <td>154.500000</td>\n",
              "      <td>39.000000</td>\n",
              "      <td>38.800000</td>\n",
              "      <td>52.500000</td>\n",
              "      <td>16.400000</td>\n",
              "      <td>21.600000</td>\n",
              "      <td>5.300000</td>\n",
              "      <td>6.935000</td>\n",
              "      <td>4.607500</td>\n",
              "      <td>67.000000</td>\n",
              "      <td>15.700000</td>\n",
              "      <td>69.300000</td>\n",
              "    </tr>\n",
              "    <tr>\n",
              "      <th>50%</th>\n",
              "      <td>308.000000</td>\n",
              "      <td>47.000000</td>\n",
              "      <td>42.000000</td>\n",
              "      <td>66.200000</td>\n",
              "      <td>23.000000</td>\n",
              "      <td>25.900000</td>\n",
              "      <td>7.300000</td>\n",
              "      <td>8.260000</td>\n",
              "      <td>5.300000</td>\n",
              "      <td>76.850000</td>\n",
              "      <td>23.300000</td>\n",
              "      <td>72.200000</td>\n",
              "    </tr>\n",
              "    <tr>\n",
              "      <th>75%</th>\n",
              "      <td>461.500000</td>\n",
              "      <td>54.000000</td>\n",
              "      <td>45.200000</td>\n",
              "      <td>80.100000</td>\n",
              "      <td>33.100000</td>\n",
              "      <td>32.900000</td>\n",
              "      <td>11.200000</td>\n",
              "      <td>9.590000</td>\n",
              "      <td>6.065000</td>\n",
              "      <td>88.000000</td>\n",
              "      <td>40.200000</td>\n",
              "      <td>75.400000</td>\n",
              "    </tr>\n",
              "    <tr>\n",
              "      <th>max</th>\n",
              "      <td>615.000000</td>\n",
              "      <td>77.000000</td>\n",
              "      <td>82.200000</td>\n",
              "      <td>416.600000</td>\n",
              "      <td>325.300000</td>\n",
              "      <td>324.000000</td>\n",
              "      <td>254.000000</td>\n",
              "      <td>16.410000</td>\n",
              "      <td>9.670000</td>\n",
              "      <td>1079.100000</td>\n",
              "      <td>650.900000</td>\n",
              "      <td>90.000000</td>\n",
              "    </tr>\n",
              "  </tbody>\n",
              "</table>\n",
              "</div>\n",
              "    <div class=\"colab-df-buttons\">\n",
              "\n",
              "  <div class=\"colab-df-container\">\n",
              "    <button class=\"colab-df-convert\" onclick=\"convertToInteractive('df-ebf85097-5281-430e-bc6e-57968e746a08')\"\n",
              "            title=\"Convert this dataframe to an interactive table.\"\n",
              "            style=\"display:none;\">\n",
              "\n",
              "  <svg xmlns=\"http://www.w3.org/2000/svg\" height=\"24px\" viewBox=\"0 -960 960 960\">\n",
              "    <path d=\"M120-120v-720h720v720H120Zm60-500h600v-160H180v160Zm220 220h160v-160H400v160Zm0 220h160v-160H400v160ZM180-400h160v-160H180v160Zm440 0h160v-160H620v160ZM180-180h160v-160H180v160Zm440 0h160v-160H620v160Z\"/>\n",
              "  </svg>\n",
              "    </button>\n",
              "\n",
              "  <style>\n",
              "    .colab-df-container {\n",
              "      display:flex;\n",
              "      gap: 12px;\n",
              "    }\n",
              "\n",
              "    .colab-df-convert {\n",
              "      background-color: #E8F0FE;\n",
              "      border: none;\n",
              "      border-radius: 50%;\n",
              "      cursor: pointer;\n",
              "      display: none;\n",
              "      fill: #1967D2;\n",
              "      height: 32px;\n",
              "      padding: 0 0 0 0;\n",
              "      width: 32px;\n",
              "    }\n",
              "\n",
              "    .colab-df-convert:hover {\n",
              "      background-color: #E2EBFA;\n",
              "      box-shadow: 0px 1px 2px rgba(60, 64, 67, 0.3), 0px 1px 3px 1px rgba(60, 64, 67, 0.15);\n",
              "      fill: #174EA6;\n",
              "    }\n",
              "\n",
              "    .colab-df-buttons div {\n",
              "      margin-bottom: 4px;\n",
              "    }\n",
              "\n",
              "    [theme=dark] .colab-df-convert {\n",
              "      background-color: #3B4455;\n",
              "      fill: #D2E3FC;\n",
              "    }\n",
              "\n",
              "    [theme=dark] .colab-df-convert:hover {\n",
              "      background-color: #434B5C;\n",
              "      box-shadow: 0px 1px 3px 1px rgba(0, 0, 0, 0.15);\n",
              "      filter: drop-shadow(0px 1px 2px rgba(0, 0, 0, 0.3));\n",
              "      fill: #FFFFFF;\n",
              "    }\n",
              "  </style>\n",
              "\n",
              "    <script>\n",
              "      const buttonEl =\n",
              "        document.querySelector('#df-ebf85097-5281-430e-bc6e-57968e746a08 button.colab-df-convert');\n",
              "      buttonEl.style.display =\n",
              "        google.colab.kernel.accessAllowed ? 'block' : 'none';\n",
              "\n",
              "      async function convertToInteractive(key) {\n",
              "        const element = document.querySelector('#df-ebf85097-5281-430e-bc6e-57968e746a08');\n",
              "        const dataTable =\n",
              "          await google.colab.kernel.invokeFunction('convertToInteractive',\n",
              "                                                    [key], {});\n",
              "        if (!dataTable) return;\n",
              "\n",
              "        const docLinkHtml = 'Like what you see? Visit the ' +\n",
              "          '<a target=\"_blank\" href=https://colab.research.google.com/notebooks/data_table.ipynb>data table notebook</a>'\n",
              "          + ' to learn more about interactive tables.';\n",
              "        element.innerHTML = '';\n",
              "        dataTable['output_type'] = 'display_data';\n",
              "        await google.colab.output.renderOutput(dataTable, element);\n",
              "        const docLink = document.createElement('div');\n",
              "        docLink.innerHTML = docLinkHtml;\n",
              "        element.appendChild(docLink);\n",
              "      }\n",
              "    </script>\n",
              "  </div>\n",
              "\n",
              "\n",
              "<div id=\"df-16cb8781-f6df-444f-b6b5-b3ae122696e8\">\n",
              "  <button class=\"colab-df-quickchart\" onclick=\"quickchart('df-16cb8781-f6df-444f-b6b5-b3ae122696e8')\"\n",
              "            title=\"Suggest charts\"\n",
              "            style=\"display:none;\">\n",
              "\n",
              "<svg xmlns=\"http://www.w3.org/2000/svg\" height=\"24px\"viewBox=\"0 0 24 24\"\n",
              "     width=\"24px\">\n",
              "    <g>\n",
              "        <path d=\"M19 3H5c-1.1 0-2 .9-2 2v14c0 1.1.9 2 2 2h14c1.1 0 2-.9 2-2V5c0-1.1-.9-2-2-2zM9 17H7v-7h2v7zm4 0h-2V7h2v10zm4 0h-2v-4h2v4z\"/>\n",
              "    </g>\n",
              "</svg>\n",
              "  </button>\n",
              "\n",
              "<style>\n",
              "  .colab-df-quickchart {\n",
              "      --bg-color: #E8F0FE;\n",
              "      --fill-color: #1967D2;\n",
              "      --hover-bg-color: #E2EBFA;\n",
              "      --hover-fill-color: #174EA6;\n",
              "      --disabled-fill-color: #AAA;\n",
              "      --disabled-bg-color: #DDD;\n",
              "  }\n",
              "\n",
              "  [theme=dark] .colab-df-quickchart {\n",
              "      --bg-color: #3B4455;\n",
              "      --fill-color: #D2E3FC;\n",
              "      --hover-bg-color: #434B5C;\n",
              "      --hover-fill-color: #FFFFFF;\n",
              "      --disabled-bg-color: #3B4455;\n",
              "      --disabled-fill-color: #666;\n",
              "  }\n",
              "\n",
              "  .colab-df-quickchart {\n",
              "    background-color: var(--bg-color);\n",
              "    border: none;\n",
              "    border-radius: 50%;\n",
              "    cursor: pointer;\n",
              "    display: none;\n",
              "    fill: var(--fill-color);\n",
              "    height: 32px;\n",
              "    padding: 0;\n",
              "    width: 32px;\n",
              "  }\n",
              "\n",
              "  .colab-df-quickchart:hover {\n",
              "    background-color: var(--hover-bg-color);\n",
              "    box-shadow: 0 1px 2px rgba(60, 64, 67, 0.3), 0 1px 3px 1px rgba(60, 64, 67, 0.15);\n",
              "    fill: var(--button-hover-fill-color);\n",
              "  }\n",
              "\n",
              "  .colab-df-quickchart-complete:disabled,\n",
              "  .colab-df-quickchart-complete:disabled:hover {\n",
              "    background-color: var(--disabled-bg-color);\n",
              "    fill: var(--disabled-fill-color);\n",
              "    box-shadow: none;\n",
              "  }\n",
              "\n",
              "  .colab-df-spinner {\n",
              "    border: 2px solid var(--fill-color);\n",
              "    border-color: transparent;\n",
              "    border-bottom-color: var(--fill-color);\n",
              "    animation:\n",
              "      spin 1s steps(1) infinite;\n",
              "  }\n",
              "\n",
              "  @keyframes spin {\n",
              "    0% {\n",
              "      border-color: transparent;\n",
              "      border-bottom-color: var(--fill-color);\n",
              "      border-left-color: var(--fill-color);\n",
              "    }\n",
              "    20% {\n",
              "      border-color: transparent;\n",
              "      border-left-color: var(--fill-color);\n",
              "      border-top-color: var(--fill-color);\n",
              "    }\n",
              "    30% {\n",
              "      border-color: transparent;\n",
              "      border-left-color: var(--fill-color);\n",
              "      border-top-color: var(--fill-color);\n",
              "      border-right-color: var(--fill-color);\n",
              "    }\n",
              "    40% {\n",
              "      border-color: transparent;\n",
              "      border-right-color: var(--fill-color);\n",
              "      border-top-color: var(--fill-color);\n",
              "    }\n",
              "    60% {\n",
              "      border-color: transparent;\n",
              "      border-right-color: var(--fill-color);\n",
              "    }\n",
              "    80% {\n",
              "      border-color: transparent;\n",
              "      border-right-color: var(--fill-color);\n",
              "      border-bottom-color: var(--fill-color);\n",
              "    }\n",
              "    90% {\n",
              "      border-color: transparent;\n",
              "      border-bottom-color: var(--fill-color);\n",
              "    }\n",
              "  }\n",
              "</style>\n",
              "\n",
              "  <script>\n",
              "    async function quickchart(key) {\n",
              "      const quickchartButtonEl =\n",
              "        document.querySelector('#' + key + ' button');\n",
              "      quickchartButtonEl.disabled = true;  // To prevent multiple clicks.\n",
              "      quickchartButtonEl.classList.add('colab-df-spinner');\n",
              "      try {\n",
              "        const charts = await google.colab.kernel.invokeFunction(\n",
              "            'suggestCharts', [key], {});\n",
              "      } catch (error) {\n",
              "        console.error('Error during call to suggestCharts:', error);\n",
              "      }\n",
              "      quickchartButtonEl.classList.remove('colab-df-spinner');\n",
              "      quickchartButtonEl.classList.add('colab-df-quickchart-complete');\n",
              "    }\n",
              "    (() => {\n",
              "      let quickchartButtonEl =\n",
              "        document.querySelector('#df-16cb8781-f6df-444f-b6b5-b3ae122696e8 button');\n",
              "      quickchartButtonEl.style.display =\n",
              "        google.colab.kernel.accessAllowed ? 'block' : 'none';\n",
              "    })();\n",
              "  </script>\n",
              "</div>\n",
              "    </div>\n",
              "  </div>\n"
            ]
          },
          "metadata": {},
          "execution_count": 4
        }
      ]
    },
    {
      "cell_type": "code",
      "source": [
        "data.info()"
      ],
      "metadata": {
        "colab": {
          "base_uri": "https://localhost:8080/"
        },
        "id": "oVOipz0__kmL",
        "outputId": "6a42f8cd-e868-4612-a003-32422ff07774"
      },
      "execution_count": null,
      "outputs": [
        {
          "output_type": "stream",
          "name": "stdout",
          "text": [
            "<class 'pandas.core.frame.DataFrame'>\n",
            "RangeIndex: 615 entries, 0 to 614\n",
            "Data columns (total 14 columns):\n",
            " #   Column      Non-Null Count  Dtype  \n",
            "---  ------      --------------  -----  \n",
            " 0   Unnamed: 0  615 non-null    int64  \n",
            " 1   Category    615 non-null    object \n",
            " 2   Age         615 non-null    int64  \n",
            " 3   Sex         615 non-null    object \n",
            " 4   ALB         613 non-null    float64\n",
            " 5   ALP         595 non-null    float64\n",
            " 6   ALT         612 non-null    float64\n",
            " 7   AST         613 non-null    float64\n",
            " 8   BIL         615 non-null    float64\n",
            " 9   CHE         615 non-null    float64\n",
            " 10  CHOL        604 non-null    float64\n",
            " 11  CREA        614 non-null    float64\n",
            " 12  GGT         615 non-null    float64\n",
            " 13  PROT        614 non-null    float64\n",
            "dtypes: float64(10), int64(2), object(2)\n",
            "memory usage: 67.4+ KB\n"
          ]
        }
      ]
    },
    {
      "cell_type": "markdown",
      "source": [
        "**Inference:** There is some null values in some attributes"
      ],
      "metadata": {
        "id": "0HY4mFTgG5w6"
      }
    },
    {
      "cell_type": "code",
      "source": [
        "data.isnull().sum()"
      ],
      "metadata": {
        "colab": {
          "base_uri": "https://localhost:8080/"
        },
        "id": "5oBHmWay_vk0",
        "outputId": "e72f0df7-f38f-4c78-c764-a78bec4c22aa"
      },
      "execution_count": null,
      "outputs": [
        {
          "output_type": "execute_result",
          "data": {
            "text/plain": [
              "Unnamed: 0     0\n",
              "Category       0\n",
              "Age            0\n",
              "Sex            0\n",
              "ALB            2\n",
              "ALP           20\n",
              "ALT            3\n",
              "AST            2\n",
              "BIL            0\n",
              "CHE            0\n",
              "CHOL          11\n",
              "CREA           1\n",
              "GGT            0\n",
              "PROT           1\n",
              "dtype: int64"
            ]
          },
          "metadata": {},
          "execution_count": 6
        }
      ]
    },
    {
      "cell_type": "code",
      "source": [
        "imputer = SimpleImputer(strategy='mean')\n",
        "data['CREA'] = imputer.fit_transform(data[['CREA']])\n",
        "data['PROT'] = imputer.fit_transform(data[['PROT']])\n",
        "data['CHOL'] = imputer.fit_transform(data[['CHOL']])\n",
        "data['ALT'] = imputer.fit_transform(data[['ALT']])\n",
        "data['ALP'] = imputer.fit_transform(data[['ALP']])\n",
        "data['ALB'] = imputer.fit_transform(data[['ALB']])\n",
        "data['AST'] = imputer.fit_transform(data[['AST']])"
      ],
      "metadata": {
        "id": "txupe7O0AQDf"
      },
      "execution_count": null,
      "outputs": []
    },
    {
      "cell_type": "markdown",
      "source": [
        "**Inference:** The null values in CREA and PROT are filled with mean by using SimpleImputer from sklearn"
      ],
      "metadata": {
        "id": "G0GM1xHiG_im"
      }
    },
    {
      "cell_type": "markdown",
      "source": [
        "Build a simple linear Regression considering ‘CREA’ as predictor variable and ‘PROT’ as Target variable (for all models)\n"
      ],
      "metadata": {
        "id": "BL39GpJHHWyc"
      }
    },
    {
      "cell_type": "code",
      "source": [
        "predictors = data[['CREA']]\n",
        "target = data[['PROT']]"
      ],
      "metadata": {
        "id": "tksVe9heA4NO"
      },
      "execution_count": null,
      "outputs": []
    },
    {
      "cell_type": "code",
      "source": [
        "X_train, X_test, y_train, y_test = train_test_split(predictors,target, test_size = 0.20,random_state = 42)"
      ],
      "metadata": {
        "id": "6BnB5amIBKgx"
      },
      "execution_count": null,
      "outputs": []
    },
    {
      "cell_type": "code",
      "source": [
        "model = LinearRegression()\n",
        "model.fit(X_train,y_train)"
      ],
      "metadata": {
        "colab": {
          "base_uri": "https://localhost:8080/",
          "height": 74
        },
        "id": "zZVl7A9VBKqd",
        "outputId": "6d851dfd-41a3-48d3-8a95-e7c7edbe8074"
      },
      "execution_count": null,
      "outputs": [
        {
          "output_type": "execute_result",
          "data": {
            "text/plain": [
              "LinearRegression()"
            ],
            "text/html": [
              "<style>#sk-container-id-1 {color: black;background-color: white;}#sk-container-id-1 pre{padding: 0;}#sk-container-id-1 div.sk-toggleable {background-color: white;}#sk-container-id-1 label.sk-toggleable__label {cursor: pointer;display: block;width: 100%;margin-bottom: 0;padding: 0.3em;box-sizing: border-box;text-align: center;}#sk-container-id-1 label.sk-toggleable__label-arrow:before {content: \"▸\";float: left;margin-right: 0.25em;color: #696969;}#sk-container-id-1 label.sk-toggleable__label-arrow:hover:before {color: black;}#sk-container-id-1 div.sk-estimator:hover label.sk-toggleable__label-arrow:before {color: black;}#sk-container-id-1 div.sk-toggleable__content {max-height: 0;max-width: 0;overflow: hidden;text-align: left;background-color: #f0f8ff;}#sk-container-id-1 div.sk-toggleable__content pre {margin: 0.2em;color: black;border-radius: 0.25em;background-color: #f0f8ff;}#sk-container-id-1 input.sk-toggleable__control:checked~div.sk-toggleable__content {max-height: 200px;max-width: 100%;overflow: auto;}#sk-container-id-1 input.sk-toggleable__control:checked~label.sk-toggleable__label-arrow:before {content: \"▾\";}#sk-container-id-1 div.sk-estimator input.sk-toggleable__control:checked~label.sk-toggleable__label {background-color: #d4ebff;}#sk-container-id-1 div.sk-label input.sk-toggleable__control:checked~label.sk-toggleable__label {background-color: #d4ebff;}#sk-container-id-1 input.sk-hidden--visually {border: 0;clip: rect(1px 1px 1px 1px);clip: rect(1px, 1px, 1px, 1px);height: 1px;margin: -1px;overflow: hidden;padding: 0;position: absolute;width: 1px;}#sk-container-id-1 div.sk-estimator {font-family: monospace;background-color: #f0f8ff;border: 1px dotted black;border-radius: 0.25em;box-sizing: border-box;margin-bottom: 0.5em;}#sk-container-id-1 div.sk-estimator:hover {background-color: #d4ebff;}#sk-container-id-1 div.sk-parallel-item::after {content: \"\";width: 100%;border-bottom: 1px solid gray;flex-grow: 1;}#sk-container-id-1 div.sk-label:hover label.sk-toggleable__label {background-color: #d4ebff;}#sk-container-id-1 div.sk-serial::before {content: \"\";position: absolute;border-left: 1px solid gray;box-sizing: border-box;top: 0;bottom: 0;left: 50%;z-index: 0;}#sk-container-id-1 div.sk-serial {display: flex;flex-direction: column;align-items: center;background-color: white;padding-right: 0.2em;padding-left: 0.2em;position: relative;}#sk-container-id-1 div.sk-item {position: relative;z-index: 1;}#sk-container-id-1 div.sk-parallel {display: flex;align-items: stretch;justify-content: center;background-color: white;position: relative;}#sk-container-id-1 div.sk-item::before, #sk-container-id-1 div.sk-parallel-item::before {content: \"\";position: absolute;border-left: 1px solid gray;box-sizing: border-box;top: 0;bottom: 0;left: 50%;z-index: -1;}#sk-container-id-1 div.sk-parallel-item {display: flex;flex-direction: column;z-index: 1;position: relative;background-color: white;}#sk-container-id-1 div.sk-parallel-item:first-child::after {align-self: flex-end;width: 50%;}#sk-container-id-1 div.sk-parallel-item:last-child::after {align-self: flex-start;width: 50%;}#sk-container-id-1 div.sk-parallel-item:only-child::after {width: 0;}#sk-container-id-1 div.sk-dashed-wrapped {border: 1px dashed gray;margin: 0 0.4em 0.5em 0.4em;box-sizing: border-box;padding-bottom: 0.4em;background-color: white;}#sk-container-id-1 div.sk-label label {font-family: monospace;font-weight: bold;display: inline-block;line-height: 1.2em;}#sk-container-id-1 div.sk-label-container {text-align: center;}#sk-container-id-1 div.sk-container {/* jupyter's `normalize.less` sets `[hidden] { display: none; }` but bootstrap.min.css set `[hidden] { display: none !important; }` so we also need the `!important` here to be able to override the default hidden behavior on the sphinx rendered scikit-learn.org. See: https://github.com/scikit-learn/scikit-learn/issues/21755 */display: inline-block !important;position: relative;}#sk-container-id-1 div.sk-text-repr-fallback {display: none;}</style><div id=\"sk-container-id-1\" class=\"sk-top-container\"><div class=\"sk-text-repr-fallback\"><pre>LinearRegression()</pre><b>In a Jupyter environment, please rerun this cell to show the HTML representation or trust the notebook. <br />On GitHub, the HTML representation is unable to render, please try loading this page with nbviewer.org.</b></div><div class=\"sk-container\" hidden><div class=\"sk-item\"><div class=\"sk-estimator sk-toggleable\"><input class=\"sk-toggleable__control sk-hidden--visually\" id=\"sk-estimator-id-1\" type=\"checkbox\" checked><label for=\"sk-estimator-id-1\" class=\"sk-toggleable__label sk-toggleable__label-arrow\">LinearRegression</label><div class=\"sk-toggleable__content\"><pre>LinearRegression()</pre></div></div></div></div></div>"
            ]
          },
          "metadata": {},
          "execution_count": 10
        }
      ]
    },
    {
      "cell_type": "code",
      "source": [
        "y_pred = model.predict(X_test)"
      ],
      "metadata": {
        "id": "mWehUu1jI_r1"
      },
      "execution_count": null,
      "outputs": []
    },
    {
      "cell_type": "markdown",
      "source": [
        "Model Evaluation for Simple Linear Regression"
      ],
      "metadata": {
        "id": "YVyX8qprJfv0"
      }
    },
    {
      "cell_type": "code",
      "source": [
        "mse = mean_squared_error(y_test, y_pred)\n",
        "r2 = r2_score(y_test, y_pred)\n",
        "\n",
        "print(f\"Mean Squared Error (MSE): {mse:.2f}\")\n",
        "print(f\"R-squared (R2): {r2:.2f}\")"
      ],
      "metadata": {
        "colab": {
          "base_uri": "https://localhost:8080/"
        },
        "id": "IbzGWoonJEZN",
        "outputId": "ca8f1ce9-2270-4a63-9d67-024d481683d5"
      },
      "execution_count": null,
      "outputs": [
        {
          "output_type": "stream",
          "name": "stdout",
          "text": [
            "Mean Squared Error (MSE): 31.66\n",
            "R-squared (R2): -0.01\n"
          ]
        }
      ]
    },
    {
      "cell_type": "markdown",
      "source": [
        "**Inference:** Mse displays the average squared differences between the actual and predicted value, MSE of 31.66 suggests that, on average, the squared difference between the predicted 'PROT' values and the actual 'PROT' values is around 31.66.\n",
        "\n",
        " R-squared, This metric measures the goodness of fit of the model. An R2 score of -0.01 indicates that the model's predictions do not explain the variance in the target variable 'PROT'. The model might perform worst than predicting the mean value of 'PROT' for all observations."
      ],
      "metadata": {
        "id": "Vjfgx-6FJ9ai"
      }
    },
    {
      "cell_type": "markdown",
      "source": [
        "Performing Variance Inflation Factor"
      ],
      "metadata": {
        "id": "5vZy4mUSKuks"
      }
    },
    {
      "cell_type": "code",
      "source": [
        "predictors = ['ALP','ALT','AST','ALB','BIL','CHE','CHOL','CREA','GGT']\n",
        "X = data[predictors]"
      ],
      "metadata": {
        "id": "KKqMCWmGJqMN"
      },
      "execution_count": null,
      "outputs": []
    },
    {
      "cell_type": "code",
      "source": [
        "vif_data = pd.DataFrame()\n",
        "vif_data['predictors'] = X.columns\n",
        "vif_data['VIF'] = [variance_inflation_factor(X.values, i) for i in range(X.shape[1])]"
      ],
      "metadata": {
        "id": "R51D7cCoLdSU"
      },
      "execution_count": null,
      "outputs": []
    },
    {
      "cell_type": "code",
      "source": [
        "print(vif_data)"
      ],
      "metadata": {
        "colab": {
          "base_uri": "https://localhost:8080/"
        },
        "id": "NjZr89EbMaSd",
        "outputId": "c421ed57-5bc7-40e9-effc-532ab0d9aa37"
      },
      "execution_count": null,
      "outputs": [
        {
          "output_type": "stream",
          "name": "stdout",
          "text": [
            "  predictors        VIF\n",
            "0        ALP   9.894721\n",
            "1        ALT   2.671327\n",
            "2        AST   3.103881\n",
            "3        ALB  30.939391\n",
            "4        BIL   1.572421\n",
            "5        CHE  22.129342\n",
            "6       CHOL  26.864335\n",
            "7       CREA   3.746091\n",
            "8        GGT   2.600775\n"
          ]
        }
      ]
    },
    {
      "cell_type": "markdown",
      "source": [
        "Building Multiple Linear Regression Model"
      ],
      "metadata": {
        "id": "oHAgqyZWNFKX"
      }
    },
    {
      "cell_type": "code",
      "source": [
        "X = data[predictors]\n",
        "y = data[['PROT']]"
      ],
      "metadata": {
        "id": "YUk95ZneMwhV"
      },
      "execution_count": null,
      "outputs": []
    },
    {
      "cell_type": "code",
      "source": [
        "X_train, X_test, y_train, y_test = train_test_split(X, y, test_size=0.2, random_state=42)"
      ],
      "metadata": {
        "id": "lnCzYTtKNY--"
      },
      "execution_count": null,
      "outputs": []
    },
    {
      "cell_type": "code",
      "source": [
        "model2 = LinearRegression()\n",
        "model2.fit(X_train,y_train)"
      ],
      "metadata": {
        "colab": {
          "base_uri": "https://localhost:8080/",
          "height": 74
        },
        "id": "4TCsWvjWNlSs",
        "outputId": "1cee5845-bcd1-41d7-a2cc-d90efd519675"
      },
      "execution_count": null,
      "outputs": [
        {
          "output_type": "execute_result",
          "data": {
            "text/plain": [
              "LinearRegression()"
            ],
            "text/html": [
              "<style>#sk-container-id-2 {color: black;background-color: white;}#sk-container-id-2 pre{padding: 0;}#sk-container-id-2 div.sk-toggleable {background-color: white;}#sk-container-id-2 label.sk-toggleable__label {cursor: pointer;display: block;width: 100%;margin-bottom: 0;padding: 0.3em;box-sizing: border-box;text-align: center;}#sk-container-id-2 label.sk-toggleable__label-arrow:before {content: \"▸\";float: left;margin-right: 0.25em;color: #696969;}#sk-container-id-2 label.sk-toggleable__label-arrow:hover:before {color: black;}#sk-container-id-2 div.sk-estimator:hover label.sk-toggleable__label-arrow:before {color: black;}#sk-container-id-2 div.sk-toggleable__content {max-height: 0;max-width: 0;overflow: hidden;text-align: left;background-color: #f0f8ff;}#sk-container-id-2 div.sk-toggleable__content pre {margin: 0.2em;color: black;border-radius: 0.25em;background-color: #f0f8ff;}#sk-container-id-2 input.sk-toggleable__control:checked~div.sk-toggleable__content {max-height: 200px;max-width: 100%;overflow: auto;}#sk-container-id-2 input.sk-toggleable__control:checked~label.sk-toggleable__label-arrow:before {content: \"▾\";}#sk-container-id-2 div.sk-estimator input.sk-toggleable__control:checked~label.sk-toggleable__label {background-color: #d4ebff;}#sk-container-id-2 div.sk-label input.sk-toggleable__control:checked~label.sk-toggleable__label {background-color: #d4ebff;}#sk-container-id-2 input.sk-hidden--visually {border: 0;clip: rect(1px 1px 1px 1px);clip: rect(1px, 1px, 1px, 1px);height: 1px;margin: -1px;overflow: hidden;padding: 0;position: absolute;width: 1px;}#sk-container-id-2 div.sk-estimator {font-family: monospace;background-color: #f0f8ff;border: 1px dotted black;border-radius: 0.25em;box-sizing: border-box;margin-bottom: 0.5em;}#sk-container-id-2 div.sk-estimator:hover {background-color: #d4ebff;}#sk-container-id-2 div.sk-parallel-item::after {content: \"\";width: 100%;border-bottom: 1px solid gray;flex-grow: 1;}#sk-container-id-2 div.sk-label:hover label.sk-toggleable__label {background-color: #d4ebff;}#sk-container-id-2 div.sk-serial::before {content: \"\";position: absolute;border-left: 1px solid gray;box-sizing: border-box;top: 0;bottom: 0;left: 50%;z-index: 0;}#sk-container-id-2 div.sk-serial {display: flex;flex-direction: column;align-items: center;background-color: white;padding-right: 0.2em;padding-left: 0.2em;position: relative;}#sk-container-id-2 div.sk-item {position: relative;z-index: 1;}#sk-container-id-2 div.sk-parallel {display: flex;align-items: stretch;justify-content: center;background-color: white;position: relative;}#sk-container-id-2 div.sk-item::before, #sk-container-id-2 div.sk-parallel-item::before {content: \"\";position: absolute;border-left: 1px solid gray;box-sizing: border-box;top: 0;bottom: 0;left: 50%;z-index: -1;}#sk-container-id-2 div.sk-parallel-item {display: flex;flex-direction: column;z-index: 1;position: relative;background-color: white;}#sk-container-id-2 div.sk-parallel-item:first-child::after {align-self: flex-end;width: 50%;}#sk-container-id-2 div.sk-parallel-item:last-child::after {align-self: flex-start;width: 50%;}#sk-container-id-2 div.sk-parallel-item:only-child::after {width: 0;}#sk-container-id-2 div.sk-dashed-wrapped {border: 1px dashed gray;margin: 0 0.4em 0.5em 0.4em;box-sizing: border-box;padding-bottom: 0.4em;background-color: white;}#sk-container-id-2 div.sk-label label {font-family: monospace;font-weight: bold;display: inline-block;line-height: 1.2em;}#sk-container-id-2 div.sk-label-container {text-align: center;}#sk-container-id-2 div.sk-container {/* jupyter's `normalize.less` sets `[hidden] { display: none; }` but bootstrap.min.css set `[hidden] { display: none !important; }` so we also need the `!important` here to be able to override the default hidden behavior on the sphinx rendered scikit-learn.org. See: https://github.com/scikit-learn/scikit-learn/issues/21755 */display: inline-block !important;position: relative;}#sk-container-id-2 div.sk-text-repr-fallback {display: none;}</style><div id=\"sk-container-id-2\" class=\"sk-top-container\"><div class=\"sk-text-repr-fallback\"><pre>LinearRegression()</pre><b>In a Jupyter environment, please rerun this cell to show the HTML representation or trust the notebook. <br />On GitHub, the HTML representation is unable to render, please try loading this page with nbviewer.org.</b></div><div class=\"sk-container\" hidden><div class=\"sk-item\"><div class=\"sk-estimator sk-toggleable\"><input class=\"sk-toggleable__control sk-hidden--visually\" id=\"sk-estimator-id-2\" type=\"checkbox\" checked><label for=\"sk-estimator-id-2\" class=\"sk-toggleable__label sk-toggleable__label-arrow\">LinearRegression</label><div class=\"sk-toggleable__content\"><pre>LinearRegression()</pre></div></div></div></div></div>"
            ]
          },
          "metadata": {},
          "execution_count": 18
        }
      ]
    },
    {
      "cell_type": "code",
      "source": [
        "y_pred = model2.predict(X_test)"
      ],
      "metadata": {
        "id": "weWIhysUN5eN"
      },
      "execution_count": null,
      "outputs": []
    },
    {
      "cell_type": "code",
      "source": [
        "mse = mean_squared_error(y_test, y_pred)\n",
        "r2 = r2_score(y_test, y_pred)\n",
        "\n",
        "print(f\"Mean Squared Error (MSE): {mse:.2f}\")\n",
        "print(f\"R-squared (R2): {r2:.2f}\")"
      ],
      "metadata": {
        "colab": {
          "base_uri": "https://localhost:8080/"
        },
        "id": "p6zIuh8iN-zO",
        "outputId": "50eddf36-655e-418f-827d-be0e805a59ae"
      },
      "execution_count": null,
      "outputs": [
        {
          "output_type": "stream",
          "name": "stdout",
          "text": [
            "Mean Squared Error (MSE): 22.76\n",
            "R-squared (R2): 0.27\n"
          ]
        }
      ]
    },
    {
      "cell_type": "markdown",
      "source": [
        "**Inference:** An R-squared value of 0.27 indicates a moderate level of predictive power."
      ],
      "metadata": {
        "id": "deF91EkSQGzP"
      }
    },
    {
      "cell_type": "markdown",
      "source": [
        "Polynomial Regression"
      ],
      "metadata": {
        "id": "UZr4HpsOQ4w1"
      }
    },
    {
      "cell_type": "code",
      "source": [
        "X = data[['ALB']]\n",
        "y = data['PROT']\n",
        "\n",
        "results = []\n",
        "\n",
        "X_train, X_test, y_train, y_test = train_test_split(X, y, test_size=0.2, random_state=42)\n",
        "\n",
        "for degree in range(2,5):\n",
        "\n",
        "    polynomial_features = PolynomialFeatures(degree=degree)\n",
        "    X_poly_train = polynomial_features.fit_transform(X_train)\n",
        "\n",
        "    model3 = LinearRegression()\n",
        "    model3.fit(X_poly_train, y_train)\n",
        "\n",
        "    X_poly_test = polynomial_features.transform(X_test)\n",
        "    y_pred = model3.predict(X_poly_test)\n",
        "\n",
        "    # Model Evaluation\n",
        "    mse = mean_squared_error(y_test, y_pred)\n",
        "    r2 = r2_score(y_test, y_pred)\n",
        "\n",
        "    results.append({'Degree': degree, 'MSE': mse, 'R-squared': r2})\n",
        "\n",
        "for result in results:\n",
        "\n",
        "    print(f\"\\nDegree: {result['Degree']}\")\n",
        "    print(f\"Predictor: ALB\")\n",
        "    print(f\"Mean Squared Error (MSE): {result['MSE']:.2f}\")\n",
        "    print(f\"R-squared (R2): {result['R-squared']:.2f}\")"
      ],
      "metadata": {
        "colab": {
          "base_uri": "https://localhost:8080/"
        },
        "id": "XQxJccakO13w",
        "outputId": "68f81f87-f198-4bb7-f015-8a1429ce2b09"
      },
      "execution_count": 32,
      "outputs": [
        {
          "output_type": "stream",
          "name": "stdout",
          "text": [
            "\n",
            "Degree: 2\n",
            "Predictor: ALB\n",
            "Mean Squared Error (MSE): 25.34\n",
            "R-squared (R2): 0.19\n",
            "\n",
            "Degree: 3\n",
            "Predictor: ALB\n",
            "Mean Squared Error (MSE): 25.53\n",
            "R-squared (R2): 0.19\n",
            "\n",
            "Degree: 4\n",
            "Predictor: ALB\n",
            "Mean Squared Error (MSE): 25.56\n",
            "R-squared (R2): 0.18\n"
          ]
        }
      ]
    },
    {
      "cell_type": "markdown",
      "source": [
        "**Inference:** The MSE and R-squared values remain quite similar across the different polynomial degrees, indicating consistency in model performance.\n",
        "\n",
        "The R-squared values suggest that the 'ALB' predictor alone, even in polynomial forms up to degree 4, explains around 18% to 19% of the variance in the 'PROT' target variable."
      ],
      "metadata": {
        "id": "xnLBFz5mq3Ug"
      }
    },
    {
      "cell_type": "markdown",
      "source": [
        "Ridge Regression"
      ],
      "metadata": {
        "id": "REuvNeeOxR3L"
      }
    },
    {
      "cell_type": "markdown",
      "source": [
        "Build a Ridge regression model using the attribute that has highest VIF for 13 different values of alpha ranging from 0.1 to 150"
      ],
      "metadata": {
        "id": "HbVUXia_vjb5"
      }
    },
    {
      "cell_type": "code",
      "source": [
        "X = data[['ALB']]\n",
        "y = data['PROT']"
      ],
      "metadata": {
        "id": "inRhZfnjvmgx"
      },
      "execution_count": 23,
      "outputs": []
    },
    {
      "cell_type": "code",
      "source": [
        "X_train, X_test, y_train, y_test = train_test_split(X, y, test_size=0.2, random_state=42)"
      ],
      "metadata": {
        "id": "AQr7osllxEJR"
      },
      "execution_count": 24,
      "outputs": []
    },
    {
      "cell_type": "code",
      "source": [
        "# Creating List to store results for different alpha values\n",
        "results = []"
      ],
      "metadata": {
        "id": "YxKtrNWPxGhz"
      },
      "execution_count": 35,
      "outputs": []
    },
    {
      "cell_type": "code",
      "source": [
        "alphas = np.linspace(0.1, 150, 13)\n",
        "# Creates an array (alphas) that contains 13 numbers evenly distributed between 0.1 (start) and 150 (stop)\n",
        "\n",
        "for alpha in alphas:\n",
        "\n",
        "    # Creating Ridge regression model\n",
        "\n",
        "    model4 = Ridge(alpha=alpha)\n",
        "    model4.fit(X_train, y_train)\n",
        "\n",
        "    y_pred = model4.predict(X_test)\n",
        "\n",
        "    # Evaluating model performance\n",
        "    mse = mean_squared_error(y_test, y_pred)\n",
        "    r2 = r2_score(y_test, y_pred)\n",
        "\n",
        "    results.append({'Alpha': alpha, 'MSE': mse, 'R-squared': r2})"
      ],
      "metadata": {
        "id": "W1R_oudxxPw8"
      },
      "execution_count": 36,
      "outputs": []
    },
    {
      "cell_type": "code",
      "source": [
        "for result in results:\n",
        "    print(f\"\\nAlpha: {result['Alpha']:.2f}\")\n",
        "    print(f\"Predictor: ALB\")\n",
        "    print(f\"Mean Squared Error (MSE): {result['MSE']:.2f}\")\n",
        "    print(f\"R-squared (R2): {result['R-squared']:.2f}\")"
      ],
      "metadata": {
        "colab": {
          "base_uri": "https://localhost:8080/"
        },
        "id": "J2hIOdE-xfdN",
        "outputId": "2861860f-ae90-4ef7-e8f3-b83e491eec42"
      },
      "execution_count": 37,
      "outputs": [
        {
          "output_type": "stream",
          "name": "stdout",
          "text": [
            "\n",
            "Alpha: 0.10\n",
            "Predictor: ALB\n",
            "Mean Squared Error (MSE): 23.04\n",
            "R-squared (R2): 0.26\n",
            "\n",
            "Alpha: 12.59\n",
            "Predictor: ALB\n",
            "Mean Squared Error (MSE): 23.04\n",
            "R-squared (R2): 0.26\n",
            "\n",
            "Alpha: 25.08\n",
            "Predictor: ALB\n",
            "Mean Squared Error (MSE): 23.03\n",
            "R-squared (R2): 0.26\n",
            "\n",
            "Alpha: 37.58\n",
            "Predictor: ALB\n",
            "Mean Squared Error (MSE): 23.03\n",
            "R-squared (R2): 0.26\n",
            "\n",
            "Alpha: 50.07\n",
            "Predictor: ALB\n",
            "Mean Squared Error (MSE): 23.03\n",
            "R-squared (R2): 0.26\n",
            "\n",
            "Alpha: 62.56\n",
            "Predictor: ALB\n",
            "Mean Squared Error (MSE): 23.03\n",
            "R-squared (R2): 0.26\n",
            "\n",
            "Alpha: 75.05\n",
            "Predictor: ALB\n",
            "Mean Squared Error (MSE): 23.03\n",
            "R-squared (R2): 0.27\n",
            "\n",
            "Alpha: 87.54\n",
            "Predictor: ALB\n",
            "Mean Squared Error (MSE): 23.03\n",
            "R-squared (R2): 0.27\n",
            "\n",
            "Alpha: 100.03\n",
            "Predictor: ALB\n",
            "Mean Squared Error (MSE): 23.02\n",
            "R-squared (R2): 0.27\n",
            "\n",
            "Alpha: 112.53\n",
            "Predictor: ALB\n",
            "Mean Squared Error (MSE): 23.02\n",
            "R-squared (R2): 0.27\n",
            "\n",
            "Alpha: 125.02\n",
            "Predictor: ALB\n",
            "Mean Squared Error (MSE): 23.02\n",
            "R-squared (R2): 0.27\n",
            "\n",
            "Alpha: 137.51\n",
            "Predictor: ALB\n",
            "Mean Squared Error (MSE): 23.02\n",
            "R-squared (R2): 0.27\n",
            "\n",
            "Alpha: 150.00\n",
            "Predictor: ALB\n",
            "Mean Squared Error (MSE): 23.02\n",
            "R-squared (R2): 0.27\n"
          ]
        }
      ]
    },
    {
      "cell_type": "markdown",
      "source": [
        "**Inference**: Model consistency - Across different alpha values, the Mean Squared Error (MSE) and R-squared (R2) values remain relatively consistent.\n",
        "\n",
        "The MSE remains around 23.02 to 23.04, while the R-squared values range from approximately 0.26 to 0.27 for the 'ALB' predictor."
      ],
      "metadata": {
        "id": "jZNBYNcmyerx"
      }
    },
    {
      "cell_type": "markdown",
      "source": [
        "Lasso Regression"
      ],
      "metadata": {
        "id": "elgbrCk6zfQS"
      }
    },
    {
      "cell_type": "markdown",
      "source": [
        "Build a LASSO regression model using the attribute that has highest VIF for different values of alpha ranging from 0.1 to 100"
      ],
      "metadata": {
        "id": "NB9bmb3ZzfKo"
      }
    },
    {
      "cell_type": "code",
      "source": [
        "X = data[['ALB']]\n",
        "y = data['PROT']"
      ],
      "metadata": {
        "id": "iej8S_YiyfVt"
      },
      "execution_count": 30,
      "outputs": []
    },
    {
      "cell_type": "code",
      "source": [
        "X_train, X_test, y_train, y_test = train_test_split(X, y, test_size=0.2, random_state=42)"
      ],
      "metadata": {
        "id": "IvHMKtG20dzb"
      },
      "execution_count": 38,
      "outputs": []
    },
    {
      "cell_type": "code",
      "source": [
        "alphas = [0.1, 1, 5, 10, 20, 30, 40, 50, 60, 70, 80, 90, 100]"
      ],
      "metadata": {
        "id": "OL-Bwf3l0mp3"
      },
      "execution_count": 40,
      "outputs": []
    },
    {
      "cell_type": "code",
      "source": [
        "# Creating List to store results for different alpha values\n",
        "results = []"
      ],
      "metadata": {
        "id": "4tb-azkn0hgC"
      },
      "execution_count": 39,
      "outputs": []
    },
    {
      "cell_type": "code",
      "source": [
        "for alpha in alphas:\n",
        "    model5 = Lasso(alpha=alpha)\n",
        "    model5.fit(X_train, y_train)\n",
        "    y_pred = model5.predict(X_test)\n",
        "\n",
        "    mse = mean_squared_error(y_test, y_pred)\n",
        "    r2 = r2_score(y_test, y_pred)\n",
        "\n",
        "    results.append({'Alpha': alpha, 'MSE': mse, 'R-squared': r2})"
      ],
      "metadata": {
        "id": "6lTF3w8n1RWl"
      },
      "execution_count": 43,
      "outputs": []
    },
    {
      "cell_type": "code",
      "source": [
        "for result in results:\n",
        "    print(f\"\\nAlpha: {result['Alpha']}\")\n",
        "    print(f\"Predictor: ALB\")\n",
        "    print(f\"Mean Squared Error (MSE): {result['MSE']:.2f}\")\n",
        "    print(f\"R-squared (R2): {result['R-squared']:.2f}\")"
      ],
      "metadata": {
        "colab": {
          "base_uri": "https://localhost:8080/"
        },
        "id": "Zdeirg6x1TfJ",
        "outputId": "a6bd679b-4db1-481f-82a0-9072f82364e8"
      },
      "execution_count": 45,
      "outputs": [
        {
          "output_type": "stream",
          "name": "stdout",
          "text": [
            "\n",
            "Alpha: 0.1\n",
            "Predictor: ALB\n",
            "Mean Squared Error (MSE): 23.03\n",
            "R-squared (R2): 0.27\n",
            "\n",
            "Alpha: 1\n",
            "Predictor: ALB\n",
            "Mean Squared Error (MSE): 22.95\n",
            "R-squared (R2): 0.27\n",
            "\n",
            "Alpha: 5\n",
            "Predictor: ALB\n",
            "Mean Squared Error (MSE): 23.35\n",
            "R-squared (R2): 0.25\n",
            "\n",
            "Alpha: 10\n",
            "Predictor: ALB\n",
            "Mean Squared Error (MSE): 25.57\n",
            "R-squared (R2): 0.18\n",
            "\n",
            "Alpha: 20\n",
            "Predictor: ALB\n",
            "Mean Squared Error (MSE): 31.62\n",
            "R-squared (R2): -0.01\n",
            "\n",
            "Alpha: 30\n",
            "Predictor: ALB\n",
            "Mean Squared Error (MSE): 31.62\n",
            "R-squared (R2): -0.01\n",
            "\n",
            "Alpha: 40\n",
            "Predictor: ALB\n",
            "Mean Squared Error (MSE): 31.62\n",
            "R-squared (R2): -0.01\n",
            "\n",
            "Alpha: 50\n",
            "Predictor: ALB\n",
            "Mean Squared Error (MSE): 31.62\n",
            "R-squared (R2): -0.01\n",
            "\n",
            "Alpha: 60\n",
            "Predictor: ALB\n",
            "Mean Squared Error (MSE): 31.62\n",
            "R-squared (R2): -0.01\n",
            "\n",
            "Alpha: 70\n",
            "Predictor: ALB\n",
            "Mean Squared Error (MSE): 31.62\n",
            "R-squared (R2): -0.01\n",
            "\n",
            "Alpha: 80\n",
            "Predictor: ALB\n",
            "Mean Squared Error (MSE): 31.62\n",
            "R-squared (R2): -0.01\n",
            "\n",
            "Alpha: 90\n",
            "Predictor: ALB\n",
            "Mean Squared Error (MSE): 31.62\n",
            "R-squared (R2): -0.01\n",
            "\n",
            "Alpha: 100\n",
            "Predictor: ALB\n",
            "Mean Squared Error (MSE): 31.62\n",
            "R-squared (R2): -0.01\n"
          ]
        }
      ]
    },
    {
      "cell_type": "markdown",
      "source": [
        "**Inference**\n",
        "\n",
        "As the alpha value increases, the model applies stronger regularization to the coefficients.\n",
        "\n",
        "For alpha values up to 5, the Mean Squared Error (MSE) and R-squared (R2) values remain relatively consistent.\n",
        "\n",
        "For alpha values of 10 and higher, the model's performance starts deteriorating significantly.\n",
        "\n",
        "Alpha values above 10 result in negative R-squared values, indicating poor model performance in explaining the variance in the 'PROT' variable.\n",
        "\n",
        "The model's best performance appears to be with an alpha value around 1, achieving an R-squared of approximately 0.27 and an MSE of 22.95."
      ],
      "metadata": {
        "id": "EzctptGw2OU6"
      }
    },
    {
      "cell_type": "markdown",
      "source": [
        "Use N-fold cross validation for training the model created"
      ],
      "metadata": {
        "id": "i5c1rrci3ypj"
      }
    },
    {
      "cell_type": "code",
      "source": [
        "X = data[['ALB']]\n",
        "y = data['PROT']\n",
        "\n",
        "# Creating Lasso model\n",
        "\n",
        "model = Lasso(alpha=1)  # Setting alpha as per previous analysis\n",
        "\n",
        "cv_scores_mse = cross_val_score(model, X, y, cv=5, scoring=make_scorer(mean_squared_error))\n",
        "cv_scores_r2 = cross_val_score(model, X, y, cv=5, scoring=make_scorer(r2_score))\n",
        "\n",
        "# Displaying cross-validation results\n",
        "\n",
        "print(\"Cross-Validation Mean Squared Error (MSE) Scores:\")\n",
        "for i, score in enumerate(cv_scores_mse):\n",
        "    print(f\"Fold {i + 1}: {score:.2f}\")\n",
        "\n",
        "print(\"\\nCross-Validation R-squared (R2) Scores:\")\n",
        "for i, score in enumerate(cv_scores_r2):\n",
        "    print(f\"Fold {i + 1}: {score:.2f}\")\n",
        "\n",
        "print(\"\\nAverage Cross-Validation MSE:\", cv_scores_mse.mean())\n",
        "print(\"Average Cross-Validation R2:\", cv_scores_r2.mean())"
      ],
      "metadata": {
        "colab": {
          "base_uri": "https://localhost:8080/"
        },
        "id": "vh15rlpC3yab",
        "outputId": "6d9aeae6-a0ba-433d-be33-985b850dfff5"
      },
      "execution_count": 49,
      "outputs": [
        {
          "output_type": "stream",
          "name": "stdout",
          "text": [
            "Cross-Validation Mean Squared Error (MSE) Scores:\n",
            "Fold 1: 15.77\n",
            "Fold 2: 19.27\n",
            "Fold 3: 15.69\n",
            "Fold 4: 11.03\n",
            "Fold 5: 43.67\n",
            "\n",
            "Cross-Validation R-squared (R2) Scores:\n",
            "Fold 1: 0.22\n",
            "Fold 2: 0.04\n",
            "Fold 3: 0.23\n",
            "Fold 4: 0.31\n",
            "Fold 5: 0.34\n",
            "\n",
            "Average Cross-Validation MSE: 21.086186745113118\n",
            "Average Cross-Validation R2: 0.22738010868872136\n"
          ]
        }
      ]
    },
    {
      "cell_type": "markdown",
      "source": [
        "**Inference:** The MSE values across the folds range from approximately 11.03 to 43.67, indicating variability in prediction errors among different subsets of the data.\n",
        "\n",
        "R-squared values vary from around 0.04 to 0.34, demonstrating varying levels of explained variance by the model across different folds.\n",
        "\n",
        "There is notable variability in performance across different folds, indicating potential sensitivity of the model to different subsets of the data.\n",
        "\n",
        "The average R-squared value of 0.23 suggests moderate predictive ability, but there is room for improvement."
      ],
      "metadata": {
        "id": "JtS0hdTg5Gcs"
      }
    },
    {
      "cell_type": "markdown",
      "source": [
        "Provide a comparative analysis graph of models built and give conceptual inferences on all the models built.\n"
      ],
      "metadata": {
        "id": "Fz4qXCzr8CHK"
      }
    },
    {
      "cell_type": "code",
      "source": [
        "# R-squared values for each model\n",
        "\n",
        "model_names = ['Linear Regression', 'Ridge Regression', 'Lasso Regression', 'Polynomial Regression']\n",
        "r_squared_values = [0.27, 0.27, 0.27, 0.19]  # R-squared values obtained from the models\n",
        "\n",
        "plt.figure(figsize=(8, 6))\n",
        "plt.bar(model_names, r_squared_values, color=['blue', 'green', 'red', 'orange'])\n",
        "plt.xlabel('Models')\n",
        "plt.ylabel('R-squared (R2) Values')\n",
        "plt.title('Comparative Analysis of Model Performance')\n",
        "plt.ylim(0, 0.3)\n",
        "plt.grid(axis='y')\n",
        "\n",
        "plt.tight_layout()\n",
        "plt.show()"
      ],
      "metadata": {
        "colab": {
          "base_uri": "https://localhost:8080/",
          "height": 607
        },
        "id": "6oDPuTrq5hA7",
        "outputId": "104a1fc3-37db-4d6e-8d97-9d99b30d3840"
      },
      "execution_count": 51,
      "outputs": [
        {
          "output_type": "display_data",
          "data": {
            "text/plain": [
              "<Figure size 800x600 with 1 Axes>"
            ],
            "image/png": "[encoded data removed]"
          },
          "metadata": {}
        }
      ]
    },
    {
      "cell_type": "markdown",
      "source": [
        "**Inference:** Linear, Ridge, and Lasso Regression models seem to have comparable performance based on R-squared values.\n",
        "\n",
        "Polynomial Regression: Demonstrates a lower R-squared value (19%), indicating comparatively weaker performance in explaining the variance in 'PROT' compared to the other models."
      ],
      "metadata": {
        "id": "8XqLvubu8GDl"
      }
    }
  ]
}